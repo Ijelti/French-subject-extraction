{
 "cells": [
  {
   "cell_type": "markdown",
   "metadata": {},
   "source": [
    "# Importation "
   ]
  },
  {
   "cell_type": "code",
   "execution_count": 1,
   "metadata": {},
   "outputs": [
    {
     "name": "stderr",
     "output_type": "stream",
     "text": [
      "C:\\Users\\Dell 7470\\Anaconda1\\lib\\site-packages\\smart_open\\ssh.py:34: UserWarning: paramiko missing, opening SSH/SCP/SFTP paths will be disabled.  `pip install paramiko` to suppress\n",
      "  warnings.warn('paramiko missing, opening SSH/SCP/SFTP paths will be disabled.  `pip install paramiko` to suppress')\n",
      "C:\\Users\\Dell 7470\\Anaconda1\\lib\\site-packages\\gensim\\utils.py:1197: UserWarning: detected Windows; aliasing chunkize to chunkize_serial\n",
      "  warnings.warn(\"detected Windows; aliasing chunkize to chunkize_serial\")\n"
     ]
    }
   ],
   "source": [
    "\n",
    "import pandas as pd\n",
    "import numpy as np\n",
    "from numpy import random\n",
    "import gensim\n",
    "import nltk\n",
    "from sklearn.model_selection import train_test_split\n",
    "from sklearn.feature_extraction.text import CountVectorizer, TfidfVectorizer\n",
    "from sklearn.metrics import accuracy_score, confusion_matrix\n",
    "import matplotlib.pyplot as plt\n",
    "from nltk.corpus import stopwords\n",
    "import re\n",
    "from bs4 import BeautifulSoup\n",
    "import matplotlib\n",
    "from matplotlib import pyplot as plt\n",
    "import codecs\n",
    "%matplotlib inline"
   ]
  },
  {
   "cell_type": "markdown",
   "metadata": {},
   "source": [
    "# Clean data"
   ]
  },
  {
   "cell_type": "code",
   "execution_count": 7,
   "metadata": {},
   "outputs": [],
   "source": [
    "# Data \n",
    "path='C:/Users/Dell 7470/Desktop/pfa/projet/data/sports.csv'\n",
    "data = pd.read_csv(path, encoding='utf-8',error_bad_lines=False, sep=';', header=None)\n",
    "\n",
    "# Missing value \n",
    "N=len(data)\n",
    "B=[]\n",
    "dic={'law, govt and politics': '1', 'health and fitness': '1', 'society': '1', 'science': '1', 'art and entertainment': '1', 'news': '1', 'religion and spirituality': '1', 'finance': '1', 'sports': '1', 'business and industrial': '1', 'technology and computing': '1', 'family and parenting': '1', 'education': '1', 'automotive and vehicles': '1', 'careers': '1', 'hobbies and interests': '1', 'travel': '1', 'real estate': '1', 'food and drink': '1', 'style and fashion': '1', 'pets': '1', 'shopping': '1', 'home and garden': '1', ' doc': '1'}\n",
    "\n",
    "\n",
    "for domaine in data[1][1:] :\n",
    "    if len(str(domaine).split(\" \"))<6:\n",
    "        dic[domaine]=\"1\"\n",
    "\n",
    "for i in range(N):\n",
    "    if data[1][i] in dic.keys():\n",
    "        if str(data[1][i]) != \"nan\":\n",
    "            B.append([data[0][i],data[1][i]])\n",
    "#print(B[:40])\n",
    "def writterCsv(B,pathoutput):\n",
    "    with codecs.open(str(pathoutput),\"w+\", encoding=\"utf8\") as f:\n",
    "         for liste in B:\n",
    "            f.write('{0};{1}\\n'.format(liste[0],liste[1]))\n",
    "            \n",
    "            \n",
    "# Saving data             \n",
    "writterCsv(B,\"C:/Users/Dell 7470/Desktop/pfa/projet/data/data_avant.csv\")"
   ]
  },
  {
   "cell_type": "markdown",
   "metadata": {},
   "source": [
    "# visualisation"
   ]
  },
  {
   "cell_type": "code",
   "execution_count": 7,
   "metadata": {},
   "outputs": [
    {
     "name": "stdout",
     "output_type": "stream",
     "text": [
      "                                                   0                       1\n",
      "0  Je dÃ©clare reprise la session du Parlement eu...  law, govt and politics\n",
      "1   Comme vous avez pu le constater, le grand \"bo...      health and fitness\n"
     ]
    }
   ],
   "source": [
    "df = pd.read_csv(\"C:/Users/Dell 7470/Desktop/stage pfe/1 idee/data_avant.csv\",encoding='utf-8',error_bad_lines=False, sep=';', header=None)\n",
    "df = df[pd.notnull(df[1])]\n",
    "print(df.head(2))"
   ]
  },
  {
   "cell_type": "code",
   "execution_count": 8,
   "metadata": {},
   "outputs": [
    {
     "data": {
      "image/png": "[encoded data removed]",
      "text/plain": [
       "<Figure size 720x288 with 1 Axes>"
      ]
     },
     "metadata": {
      "needs_background": "light"
     },
     "output_type": "display_data"
    }
   ],
   "source": [
    "plt.figure(figsize=(10,4))\n",
    "df[1].value_counts().plot(kind='bar');"
   ]
  },
  {
   "cell_type": "markdown",
   "metadata": {},
   "source": [
    "  - Balancing data by adding more observations "
   ]
  },
  {
   "cell_type": "code",
   "execution_count": 3,
   "metadata": {},
   "outputs": [
    {
     "data": {
      "text/html": [
       "<div>\n",
       "<style scoped>\n",
       "    .dataframe tbody tr th:only-of-type {\n",
       "        vertical-align: middle;\n",
       "    }\n",
       "\n",
       "    .dataframe tbody tr th {\n",
       "        vertical-align: top;\n",
       "    }\n",
       "\n",
       "    .dataframe thead th {\n",
       "        text-align: right;\n",
       "    }\n",
       "</style>\n",
       "<table border=\"1\" class=\"dataframe\">\n",
       "  <thead>\n",
       "    <tr style=\"text-align: right;\">\n",
       "      <th></th>\n",
       "      <th>0</th>\n",
       "      <th>1</th>\n",
       "    </tr>\n",
       "  </thead>\n",
       "  <tbody>\n",
       "    <tr>\n",
       "      <th>0</th>\n",
       "      <td>Le sport est dépassement de soi. Le sport est ...</td>\n",
       "      <td>sports</td>\n",
       "    </tr>\n",
       "    <tr>\n",
       "      <th>1</th>\n",
       "      <td>Le football est le reflet de notre société. Re...</td>\n",
       "      <td>sports</td>\n",
       "    </tr>\n",
       "    <tr>\n",
       "      <th>2</th>\n",
       "      <td>Le sport est une évasion complète de la vie.</td>\n",
       "      <td>sports</td>\n",
       "    </tr>\n",
       "    <tr>\n",
       "      <th>3</th>\n",
       "      <td>Le karaté c'est comme la vie, un art des renco...</td>\n",
       "      <td>sports</td>\n",
       "    </tr>\n",
       "    <tr>\n",
       "      <th>4</th>\n",
       "      <td>Je voudrais évoquer quelques points spécifiques</td>\n",
       "      <td>sports</td>\n",
       "    </tr>\n",
       "    <tr>\n",
       "      <th>5</th>\n",
       "      <td>Le sport va chercher la peur pour la dominer, ...</td>\n",
       "      <td>sports</td>\n",
       "    </tr>\n",
       "    <tr>\n",
       "      <th>6</th>\n",
       "      <td>Le sport est dépassement de soi. Le sport est ...</td>\n",
       "      <td>sports</td>\n",
       "    </tr>\n",
       "    <tr>\n",
       "      <th>7</th>\n",
       "      <td>Pour important que soit le principe de concur...</td>\n",
       "      <td>sports</td>\n",
       "    </tr>\n",
       "    <tr>\n",
       "      <th>8</th>\n",
       "      <td>Pratiqué avec sérieux, le sport n'a rien à voi...</td>\n",
       "      <td>sports</td>\n",
       "    </tr>\n",
       "    <tr>\n",
       "      <th>9</th>\n",
       "      <td>Quelles garanties avons-nous qu  ils évoluero...</td>\n",
       "      <td>sports</td>\n",
       "    </tr>\n",
       "  </tbody>\n",
       "</table>\n",
       "</div>"
      ],
      "text/plain": [
       "                                                   0       1\n",
       "0  Le sport est dépassement de soi. Le sport est ...  sports\n",
       "1  Le football est le reflet de notre société. Re...  sports\n",
       "2       Le sport est une évasion complète de la vie.  sports\n",
       "3  Le karaté c'est comme la vie, un art des renco...  sports\n",
       "4   Je voudrais évoquer quelques points spécifiques   sports\n",
       "5  Le sport va chercher la peur pour la dominer, ...  sports\n",
       "6  Le sport est dépassement de soi. Le sport est ...  sports\n",
       "7   Pour important que soit le principe de concur...  sports\n",
       "8  Pratiqué avec sérieux, le sport n'a rien à voi...  sports\n",
       "9   Quelles garanties avons-nous qu  ils évoluero...  sports"
      ]
     },
     "execution_count": 3,
     "metadata": {},
     "output_type": "execute_result"
    }
   ],
   "source": [
    "df2 = pd.read_csv(\"C:/Users/Dell 7470/Desktop/projet/data/data.csv\",encoding='utf-8',error_bad_lines=False, sep=';', header=None)\n",
    "df2 = df2[pd.notnull(df2[1])]\n",
    "df2.head(10)"
   ]
  },
  {
   "cell_type": "code",
   "execution_count": 4,
   "metadata": {
    "scrolled": false
   },
   "outputs": [
    {
     "data": {
      "image/png": "[encoded data removed]",
      "text/plain": [
       "<Figure size 720x288 with 1 Axes>"
      ]
     },
     "metadata": {
      "needs_background": "light"
     },
     "output_type": "display_data"
    }
   ],
   "source": [
    "plt.figure(figsize=(10,4))\n",
    "df2[1].value_counts().plot(kind='bar');"
   ]
  },
  {
   "cell_type": "markdown",
   "metadata": {},
   "source": [
    "# pre preocessing "
   ]
  },
  {
   "cell_type": "code",
   "execution_count": 6,
   "metadata": {},
   "outputs": [
    {
     "name": "stdout",
     "output_type": "stream",
     "text": [
      " J estime que le rapporteur joue simplement avec les chiffres \n",
      "Tag: sports\n"
     ]
    }
   ],
   "source": [
    "#extrait of the data\n",
    "def print_plot(index):\n",
    "    example = df2[df2.index == index][[0, 1]].values[0]\n",
    "    if len(example) > 0:\n",
    "        print(example[0])\n",
    "        print('Tag:', example[1])\n",
    "print_plot(10)"
   ]
  },
  {
   "cell_type": "code",
   "execution_count": 7,
   "metadata": {},
   "outputs": [
    {
     "name": "stdout",
     "output_type": "stream",
     "text": [
      "Les hommes pratiquent le stress comme si c'était un sport.\n",
      "Tag: sports\n"
     ]
    }
   ],
   "source": [
    "print_plot(60)"
   ]
  },
  {
   "cell_type": "code",
   "execution_count": 8,
   "metadata": {},
   "outputs": [
    {
     "data": {
      "text/html": [
       "<div>\n",
       "<style scoped>\n",
       "    .dataframe tbody tr th:only-of-type {\n",
       "        vertical-align: middle;\n",
       "    }\n",
       "\n",
       "    .dataframe tbody tr th {\n",
       "        vertical-align: top;\n",
       "    }\n",
       "\n",
       "    .dataframe thead th {\n",
       "        text-align: right;\n",
       "    }\n",
       "</style>\n",
       "<table border=\"1\" class=\"dataframe\">\n",
       "  <thead>\n",
       "    <tr style=\"text-align: right;\">\n",
       "      <th></th>\n",
       "      <th>0</th>\n",
       "      <th>1</th>\n",
       "    </tr>\n",
       "  </thead>\n",
       "  <tbody>\n",
       "    <tr>\n",
       "      <th>0</th>\n",
       "      <td>le sport est dépassement de soi le sport est é...</td>\n",
       "      <td>sports</td>\n",
       "    </tr>\n",
       "    <tr>\n",
       "      <th>1</th>\n",
       "      <td>le football est le reflet de notre société reg...</td>\n",
       "      <td>sports</td>\n",
       "    </tr>\n",
       "    <tr>\n",
       "      <th>2</th>\n",
       "      <td>le sport est une évasion complète de la vie</td>\n",
       "      <td>sports</td>\n",
       "    </tr>\n",
       "    <tr>\n",
       "      <th>3</th>\n",
       "      <td>le karaté c est comme la vie un art des rencon...</td>\n",
       "      <td>sports</td>\n",
       "    </tr>\n",
       "    <tr>\n",
       "      <th>4</th>\n",
       "      <td>je voudrais évoquer quelques points spécifiqu...</td>\n",
       "      <td>sports</td>\n",
       "    </tr>\n",
       "    <tr>\n",
       "      <th>5</th>\n",
       "      <td>le sport va chercher la peur pour la dominer l...</td>\n",
       "      <td>sports</td>\n",
       "    </tr>\n",
       "    <tr>\n",
       "      <th>6</th>\n",
       "      <td>le sport est dépassement de soi le sport est é...</td>\n",
       "      <td>sports</td>\n",
       "    </tr>\n",
       "    <tr>\n",
       "      <th>7</th>\n",
       "      <td>pour important que soit le principe de concur...</td>\n",
       "      <td>sports</td>\n",
       "    </tr>\n",
       "    <tr>\n",
       "      <th>8</th>\n",
       "      <td>pratiqué avec sérieux le sport n a rien à voir...</td>\n",
       "      <td>sports</td>\n",
       "    </tr>\n",
       "    <tr>\n",
       "      <th>9</th>\n",
       "      <td>quelles garanties avons nous qu ils évolueron...</td>\n",
       "      <td>sports</td>\n",
       "    </tr>\n",
       "  </tbody>\n",
       "</table>\n",
       "</div>"
      ],
      "text/plain": [
       "                                                   0       1\n",
       "0  le sport est dépassement de soi le sport est é...  sports\n",
       "1  le football est le reflet de notre société reg...  sports\n",
       "2      le sport est une évasion complète de la vie    sports\n",
       "3  le karaté c est comme la vie un art des rencon...  sports\n",
       "4   je voudrais évoquer quelques points spécifiqu...  sports\n",
       "5  le sport va chercher la peur pour la dominer l...  sports\n",
       "6  le sport est dépassement de soi le sport est é...  sports\n",
       "7   pour important que soit le principe de concur...  sports\n",
       "8  pratiqué avec sérieux le sport n a rien à voir...  sports\n",
       "9   quelles garanties avons nous qu ils évolueron...  sports"
      ]
     },
     "execution_count": 8,
     "metadata": {},
     "output_type": "execute_result"
    }
   ],
   "source": [
    "def  r_punctuation(text):\n",
    "    \"\"\" Return a cleaned version of text\n",
    "    \"\"\"\n",
    "    text = re.sub('<[^>]*>', '', text)\n",
    "    emoticons = re.findall('(?::|;|=)(?:-)?(?:\\)|\\(|D|P)', text)\n",
    "    text = (re.sub('[\\W]+', ' ', text.lower()) + ' ' + ' '.join(emoticons).replace('-', ''))\n",
    "    \n",
    "    return text\n",
    "\n",
    "df2[0] = df2[0].apply(r_punctuation)\n",
    "df2.head(10)"
   ]
  },
  {
   "cell_type": "code",
   "execution_count": 9,
   "metadata": {},
   "outputs": [
    {
     "name": "stdout",
     "output_type": "stream",
     "text": [
      "['au' 'aux' 'avec' 'ce' 'ces' 'dans' 'de' 'des' 'du' 'elle' 'en' 'et'\n",
      " 'eux' 'il' 'je' 'la' 'le' 'leur' 'lui' 'ma' 'mais' 'me' 'même' 'mes'\n",
      " 'moi' 'mon' 'ne' 'nos' 'notre' 'nous' 'on' 'ou' 'par' 'pas' 'pour' 'qu'\n",
      " 'que' 'qui' 'sa' 'se' 'ses' 'son' 'sur' 'ta' 'te' 'tes' 'toi' 'ton' 'tu'\n",
      " 'un' 'une' 'vos' 'votre' 'vous' 'c' 'd' 'j' 'l' 'à' 'm' 'n' 's' 't' 'y'\n",
      " 'été' 'étée' 'étées' 'étés' 'étant' 'étante' 'étants' 'étantes' 'suis'\n",
      " 'es' 'est' 'sommes' 'êtes' 'sont' 'serai' 'seras' 'sera' 'serons' 'serez'\n",
      " 'seront' 'serais' 'serait' 'serions' 'seriez' 'seraient' 'étais' 'était'\n",
      " 'étions' 'étiez' 'étaient' 'fus' 'fut' 'fûmes' 'fûtes' 'furent' 'sois'\n",
      " 'soit' 'soyons' 'soyez' 'soient' 'fusse' 'fusses' 'fût' 'fussions'\n",
      " 'fussiez' 'fussent' 'ayant' 'ayante' 'ayantes' 'ayants' 'eu' 'eue' 'eues'\n",
      " 'eus' 'ai' 'as' 'avons' 'avez' 'ont' 'aurai' 'auras' 'aura' 'aurons'\n",
      " 'aurez' 'auront' 'aurais' 'aurait' 'aurions' 'auriez' 'auraient' 'avais'\n",
      " 'avait' 'avions' 'aviez' 'avaient' 'eut' 'eûmes' 'eûtes' 'eurent' 'aie'\n",
      " 'aies' 'ait' 'ayons' 'ayez' 'aient' 'eusse' 'eusses' 'eût' 'eussions'\n",
      " 'eussiez' 'eussent']\n",
      "155\n"
     ]
    }
   ],
   "source": [
    "from nltk.corpus import stopwords\n",
    "from nltk.stem.snowball import SnowballStemmer\n",
    "sw = stopwords.words('French') #pour le text en francais \n",
    "print(np.array(sw))\n",
    "print(len(np.array(sw)))"
   ]
  },
  {
   "cell_type": "code",
   "execution_count": 10,
   "metadata": {},
   "outputs": [
    {
     "data": {
      "text/html": [
       "<div>\n",
       "<style scoped>\n",
       "    .dataframe tbody tr th:only-of-type {\n",
       "        vertical-align: middle;\n",
       "    }\n",
       "\n",
       "    .dataframe tbody tr th {\n",
       "        vertical-align: top;\n",
       "    }\n",
       "\n",
       "    .dataframe thead th {\n",
       "        text-align: right;\n",
       "    }\n",
       "</style>\n",
       "<table border=\"1\" class=\"dataframe\">\n",
       "  <thead>\n",
       "    <tr style=\"text-align: right;\">\n",
       "      <th></th>\n",
       "      <th>0</th>\n",
       "      <th>1</th>\n",
       "    </tr>\n",
       "  </thead>\n",
       "  <tbody>\n",
       "    <tr>\n",
       "      <th>0</th>\n",
       "      <td>sport dépassement soi sport école vie</td>\n",
       "      <td>sports</td>\n",
       "    </tr>\n",
       "    <tr>\n",
       "      <th>1</th>\n",
       "      <td>football reflet société regardez bien expressi...</td>\n",
       "      <td>sports</td>\n",
       "    </tr>\n",
       "    <tr>\n",
       "      <th>2</th>\n",
       "      <td>sport évasion complète vie</td>\n",
       "      <td>sports</td>\n",
       "    </tr>\n",
       "    <tr>\n",
       "      <th>3</th>\n",
       "      <td>karaté comme vie art rencontres surtout art re...</td>\n",
       "      <td>sports</td>\n",
       "    </tr>\n",
       "    <tr>\n",
       "      <th>4</th>\n",
       "      <td>voudrais évoquer quelques points spécifiques</td>\n",
       "      <td>sports</td>\n",
       "    </tr>\n",
       "    <tr>\n",
       "      <th>5</th>\n",
       "      <td>sport va chercher peur dominer fatigue triomph...</td>\n",
       "      <td>sports</td>\n",
       "    </tr>\n",
       "    <tr>\n",
       "      <th>6</th>\n",
       "      <td>sport dépassement soi sport école vie</td>\n",
       "      <td>sports</td>\n",
       "    </tr>\n",
       "    <tr>\n",
       "      <th>7</th>\n",
       "      <td>important principe concurrence concurrence pou...</td>\n",
       "      <td>sports</td>\n",
       "    </tr>\n",
       "    <tr>\n",
       "      <th>8</th>\n",
       "      <td>pratiqué sérieux sport a rien voir fair play d...</td>\n",
       "      <td>sports</td>\n",
       "    </tr>\n",
       "    <tr>\n",
       "      <th>9</th>\n",
       "      <td>quelles garanties ils évolueront maniéredeveni...</td>\n",
       "      <td>sports</td>\n",
       "    </tr>\n",
       "  </tbody>\n",
       "</table>\n",
       "</div>"
      ],
      "text/plain": [
       "                                                   0       1\n",
       "0              sport dépassement soi sport école vie  sports\n",
       "1  football reflet société regardez bien expressi...  sports\n",
       "2                         sport évasion complète vie  sports\n",
       "3  karaté comme vie art rencontres surtout art re...  sports\n",
       "4       voudrais évoquer quelques points spécifiques  sports\n",
       "5  sport va chercher peur dominer fatigue triomph...  sports\n",
       "6              sport dépassement soi sport école vie  sports\n",
       "7  important principe concurrence concurrence pou...  sports\n",
       "8  pratiqué sérieux sport a rien voir fair play d...  sports\n",
       "9  quelles garanties ils évolueront maniéredeveni...  sports"
      ]
     },
     "execution_count": 10,
     "metadata": {},
     "output_type": "execute_result"
    }
   ],
   "source": [
    "#sw = stopwords.words('english')\n",
    "def stopwords(text):\n",
    "    text = [word.lower() for word in text.split() if word.lower() not in sw]\n",
    "    return \" \".join(text)\n",
    "df2[0] = df2[0].apply(stopwords)\n",
    "df2.head(10)"
   ]
  },
  {
   "cell_type": "code",
   "execution_count": 11,
   "metadata": {},
   "outputs": [
    {
     "data": {
      "text/plain": [
       "68164"
      ]
     },
     "execution_count": 11,
     "metadata": {},
     "output_type": "execute_result"
    }
   ],
   "source": [
    "df2[0].apply(lambda x: len(x.split(' '))).sum()"
   ]
  },
  {
   "cell_type": "code",
   "execution_count": 12,
   "metadata": {},
   "outputs": [],
   "source": [
    "df2 = df2.reindex(np.random.permutation(df2.index))"
   ]
  },
  {
   "cell_type": "markdown",
   "metadata": {},
   "source": [
    "# Model keras"
   ]
  },
  {
   "cell_type": "markdown",
   "metadata": {},
   "source": [
    "- model with simple tokenization "
   ]
  },
  {
   "cell_type": "code",
   "execution_count": 14,
   "metadata": {},
   "outputs": [
    {
     "name": "stdout",
     "output_type": "stream",
     "text": [
      "You have TensorFlow version 1.13.1\n"
     ]
    }
   ],
   "source": [
    "#import biblio for our model \n",
    "import itertools\n",
    "import os\n",
    "\n",
    "import matplotlib.pyplot as plt\n",
    "import numpy as np\n",
    "import pandas as pd\n",
    "import tensorflow as tf\n",
    "\n",
    "from sklearn.preprocessing import LabelBinarizer, LabelEncoder\n",
    "from sklearn.metrics import confusion_matrix\n",
    "\n",
    "from tensorflow import keras\n",
    "from keras.models import Sequential\n",
    "from keras.layers import Dense, Activation, Dropout\n",
    "from keras.preprocessing import text, sequence\n",
    "from keras import utils\n",
    "print(\"You have TensorFlow version\", tf.__version__)"
   ]
  },
  {
   "cell_type": "markdown",
   "metadata": {},
   "source": [
    "- Splitting Data"
   ]
  },
  {
   "cell_type": "code",
   "execution_count": 21,
   "metadata": {},
   "outputs": [],
   "source": [
    "(train_posts, test_posts, train_tags, test_tags) = train_test_split(df2[0], df2[1], test_size=0.25,shuffle=True)"
   ]
  },
  {
   "cell_type": "markdown",
   "metadata": {},
   "source": [
    "- Tokenization "
   ]
  },
  {
   "cell_type": "code",
   "execution_count": 22,
   "metadata": {},
   "outputs": [],
   "source": [
    "max_words = 7000\n",
    "tokenize = text.Tokenizer(num_words=max_words, char_level=False)"
   ]
  },
  {
   "cell_type": "code",
   "execution_count": 23,
   "metadata": {},
   "outputs": [
    {
     "data": {
      "text/plain": [
       "array([[0., 0., 1., ..., 0., 0., 0.],\n",
       "       [0., 0., 0., ..., 0., 0., 0.],\n",
       "       [0., 0., 1., ..., 0., 0., 0.],\n",
       "       ...,\n",
       "       [0., 0., 1., ..., 0., 0., 0.],\n",
       "       [0., 0., 0., ..., 0., 0., 0.],\n",
       "       [0., 0., 0., ..., 0., 0., 0.]])"
      ]
     },
     "execution_count": 23,
     "metadata": {},
     "output_type": "execute_result"
    }
   ],
   "source": [
    "tokenize.fit_on_texts(train_posts) # only fit on train\n",
    "x_train = tokenize.texts_to_matrix(train_posts)\n",
    "x_test = tokenize.texts_to_matrix(test_posts)\n",
    "x_train "
   ]
  },
  {
   "cell_type": "code",
   "execution_count": 24,
   "metadata": {},
   "outputs": [
    {
     "data": {
      "text/plain": [
       "3703"
      ]
     },
     "execution_count": 24,
     "metadata": {},
     "output_type": "execute_result"
    }
   ],
   "source": [
    "len(x_train)"
   ]
  },
  {
   "cell_type": "markdown",
   "metadata": {},
   "source": [
    "  -- Saving our Tokenization "
   ]
  },
  {
   "cell_type": "code",
   "execution_count": 52,
   "metadata": {},
   "outputs": [],
   "source": [
    "import pickle\n",
    "import os\n",
    "\n",
    "pickle.dump(tokenize, open(os.path.join(\"C:/Users/Dell 7470/Desktop/projet/pickl_model\", 'tokenize.pickle'), 'wb'), protocol=4)"
   ]
  },
  {
   "cell_type": "code",
   "execution_count": 25,
   "metadata": {},
   "outputs": [
    {
     "data": {
      "text/plain": [
       "array([5, 0, 2, ..., 6, 0, 9])"
      ]
     },
     "execution_count": 25,
     "metadata": {},
     "output_type": "execute_result"
    }
   ],
   "source": [
    "# Use sklearn utility to convert label strings to numbered index\n",
    "\n",
    "encoder = LabelEncoder()\n",
    "encoder.fit(train_tags)\n",
    "y_train = encoder.transform(train_tags)\n",
    "y_test = encoder.transform(test_tags)\n",
    "y_test"
   ]
  },
  {
   "cell_type": "code",
   "execution_count": 26,
   "metadata": {},
   "outputs": [],
   "source": [
    "# Converts the labels to a one-hot representation\n",
    "num_classes = np.max(y_train) + 1\n",
    "y_train = utils.to_categorical(y_train, num_classes)\n",
    "y_test = utils.to_categorical(y_test, num_classes)"
   ]
  },
  {
   "cell_type": "code",
   "execution_count": 27,
   "metadata": {},
   "outputs": [
    {
     "name": "stdout",
     "output_type": "stream",
     "text": [
      "10\n"
     ]
    }
   ],
   "source": [
    "print(num_classes)"
   ]
  },
  {
   "cell_type": "code",
   "execution_count": 28,
   "metadata": {},
   "outputs": [
    {
     "name": "stdout",
     "output_type": "stream",
     "text": [
      "405\n"
     ]
    }
   ],
   "source": [
    "def getMaxLenComment():\n",
    "    listMax=[]\n",
    "    for index, row in df2.iterrows():\n",
    "        for c in row:\n",
    "            listMax.append(len(c.split()))\n",
    "    return max(listMax)\n",
    "print(getMaxLenComment())"
   ]
  },
  {
   "cell_type": "markdown",
   "metadata": {},
   "source": [
    "# Creation of our  Model "
   ]
  },
  {
   "cell_type": "code",
   "execution_count": 29,
   "metadata": {},
   "outputs": [],
   "source": [
    "batch_size=8\n",
    "epochs=10\n",
    "max_words=7000"
   ]
  },
  {
   "cell_type": "code",
   "execution_count": null,
   "metadata": {},
   "outputs": [],
   "source": [
    "model = Sequential()\n",
    "model.add(Dense(592, input_shape=(1000,)))\n",
    "model.add(Dense(278, activation='relu'))\n",
    "model.add(Dropout(0.1))\n",
    "model.add(Dense(270, activation='relu'))\n",
    "model.add(Dropout(0.6))\n",
    "model.add(Dense(270, activation='relu'))\n",
    "model.add(Dropout(0.6))\n",
    "model.add(Dense(10))\n",
    "model.add(Activation('softmax'))\n",
    "model.compile(loss='categorical_crossentropy',\n",
    "              optimizer='adam',\n",
    "              metrics=['accuracy'])\n",
    "model.summary()"
   ]
  },
  {
   "cell_type": "markdown",
   "metadata": {},
   "source": [
    "- Training "
   ]
  },
  {
   "cell_type": "code",
   "execution_count": 31,
   "metadata": {},
   "outputs": [
    {
     "name": "stdout",
     "output_type": "stream",
     "text": [
      "Train on 3332 samples, validate on 371 samples\n",
      "Epoch 1/10\n",
      "3332/3332 [==============================] - 22s 6ms/step - loss: 1.1282 - acc: 0.6564 - val_loss: 0.4863 - val_acc: 0.8787\n",
      "Epoch 2/10\n",
      "3332/3332 [==============================] - 19s 6ms/step - loss: 0.3792 - acc: 0.9202 - val_loss: 0.5512 - val_acc: 0.8868\n",
      "Epoch 3/10\n",
      "3332/3332 [==============================] - 19s 6ms/step - loss: 0.2653 - acc: 0.9544 - val_loss: 0.5726 - val_acc: 0.8814\n",
      "Epoch 4/10\n",
      "3332/3332 [==============================] - 19s 6ms/step - loss: 0.1829 - acc: 0.9706 - val_loss: 0.5874 - val_acc: 0.9003\n",
      "Epoch 5/10\n",
      "3332/3332 [==============================] - 18s 6ms/step - loss: 0.1669 - acc: 0.9730 - val_loss: 0.7396 - val_acc: 0.8706\n",
      "Epoch 6/10\n",
      "3332/3332 [==============================] - 19s 6ms/step - loss: 0.1359 - acc: 0.9730 - val_loss: 0.7496 - val_acc: 0.8652\n",
      "Epoch 7/10\n",
      "3332/3332 [==============================] - 19s 6ms/step - loss: 0.1194 - acc: 0.9772 - val_loss: 0.6788 - val_acc: 0.8814\n",
      "Epoch 8/10\n",
      "3332/3332 [==============================] - 19s 6ms/step - loss: 0.1230 - acc: 0.9772 - val_loss: 0.8259 - val_acc: 0.8814\n",
      "Epoch 9/10\n",
      "3332/3332 [==============================] - 19s 6ms/step - loss: 0.1415 - acc: 0.9730 - val_loss: 0.8984 - val_acc: 0.8787\n",
      "Epoch 10/10\n",
      "3332/3332 [==============================] - 19s 6ms/step - loss: 0.1315 - acc: 0.9727 - val_loss: 1.1290 - val_acc: 0.8652\n"
     ]
    }
   ],
   "source": [
    "history = model.fit(x_train,  y_train,validation_split=0.1,batch_size=batch_size,epochs=epochs,verbose=1)"
   ]
  },
  {
   "cell_type": "markdown",
   "metadata": {},
   "source": [
    "- Evaluation "
   ]
  },
  {
   "cell_type": "code",
   "execution_count": 32,
   "metadata": {},
   "outputs": [
    {
     "name": "stdout",
     "output_type": "stream",
     "text": [
      "1235/1235 [==============================] - 0s 331us/step\n"
     ]
    }
   ],
   "source": [
    "acc = model.evaluate(x_test,y_test)[1]"
   ]
  },
  {
   "cell_type": "code",
   "execution_count": 33,
   "metadata": {},
   "outputs": [
    {
     "data": {
      "text/plain": [
       "0.8226720648738537"
      ]
     },
     "execution_count": 33,
     "metadata": {},
     "output_type": "execute_result"
    }
   ],
   "source": [
    "acc"
   ]
  },
  {
   "cell_type": "markdown",
   "metadata": {},
   "source": [
    "# plot "
   ]
  },
  {
   "cell_type": "code",
   "execution_count": 34,
   "metadata": {},
   "outputs": [],
   "source": [
    "import matplotlib.pyplot as plt\n",
    "## Fit the model\n",
    "def plotTrain(history):\n",
    "    plt.figure(1)\n",
    "    plt.plot(list(range(epochs)),history.history['acc'])\n",
    "    plt.plot(list(range(epochs)),np.asarray(history.history['val_acc']))\n",
    "    plt.title('model accuracy')\n",
    "    plt.ylabel('Accuracy')\n",
    "    plt.xlabel('Epochs')\n",
    "    plt.legend(['train','test'], loc='upper left')"
   ]
  },
  {
   "cell_type": "code",
   "execution_count": 35,
   "metadata": {},
   "outputs": [
    {
     "name": "stdout",
     "output_type": "stream",
     "text": [
      "1235/1235 [==============================] - 0s 317us/step\n",
      "acc: 82.3%\n"
     ]
    },
    {
     "data": {
      "image/png": "[encoded data removed]",
      "text/plain": [
       "<Figure size 432x288 with 1 Axes>"
      ]
     },
     "metadata": {
      "needs_background": "light"
     },
     "output_type": "display_data"
    }
   ],
   "source": [
    "plotTrain(history)\n",
    "acc = model.evaluate(x_test,y_test)[1]\n",
    "print('{}: {:.3}%'.format(model.metrics_names[1],acc*100))"
   ]
  },
  {
   "cell_type": "code",
   "execution_count": 35,
   "metadata": {},
   "outputs": [
    {
     "name": "stdout",
     "output_type": "stream",
     "text": [
      "6798/6798 [==============================] - 2s 300us/step\n",
      "Test score: 2.262081272744473\n",
      "Test accuracy: 0.47646366578405414\n"
     ]
    }
   ],
   "source": [
    "score = model.evaluate(x_test, y_test,batch_size=batch_size, verbose=1)\n",
    "print('Test score:', score[0])\n",
    "print('Test accuracy:', score[1])\n"
   ]
  },
  {
   "cell_type": "markdown",
   "metadata": {},
   "source": [
    "# Saving model "
   ]
  },
  {
   "cell_type": "code",
   "execution_count": 40,
   "metadata": {},
   "outputs": [],
   "source": [
    "import pickle\n",
    "import os\n",
    "\n",
    "pickle.dump(model, open(os.path.join(\"C:/Users/Dell 7470/Desktop/projet/pickl_model\", 'keras.pickle'), 'wb'), protocol=4)"
   ]
  }
 ],
 "metadata": {
  "kernelspec": {
   "display_name": "Python 3",
   "language": "python",
   "name": "python3"
  },
  "language_info": {
   "codemirror_mode": {
    "name": "ipython",
    "version": 3
   },
   "file_extension": ".py",
   "mimetype": "text/x-python",
   "name": "python",
   "nbconvert_exporter": "python",
   "pygments_lexer": "ipython3",
   "version": "3.6.8"
  }
 },
 "nbformat": 4,
 "nbformat_minor": 2
}
