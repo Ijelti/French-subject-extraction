{
 "cells": [
  {
   "cell_type": "markdown",
   "metadata": {},
   "source": [
    "# Processing"
   ]
  },
  {
   "cell_type": "markdown",
   "metadata": {},
   "source": [
    "- Importation "
   ]
  },
  {
   "cell_type": "code",
   "execution_count": 1,
   "metadata": {},
   "outputs": [],
   "source": [
    "import time\n",
    "from collections import namedtuple\n",
    "import numpy as np\n",
    "import pandas as pd\n",
    "from bert_serving.client import BertClient\n",
    "from bert_serving.server import BertServer\n",
    "from bert_serving.server.graph import PoolingStrategy\n",
    "from matplotlib import pyplot as plt\n",
    "from matplotlib.colors import ListedColormap\n",
    "from sklearn.decomposition import PCA\n"
   ]
  },
  {
   "cell_type": "markdown",
   "metadata": {},
   "source": [
    "- Reading data as a dataframe"
   ]
  },
  {
   "cell_type": "code",
   "execution_count": 2,
   "metadata": {},
   "outputs": [],
   "source": [
    "\n",
    "data=pd.read_csv(\"path\",encoding='utf-8',error_bad_lines=False, sep=';', header=None)"
   ]
  },
  {
   "cell_type": "code",
   "execution_count": 4,
   "metadata": {},
   "outputs": [
    {
     "data": {
      "text/html": [
       "<div>\n",
       "<style scoped>\n",
       "    .dataframe tbody tr th:only-of-type {\n",
       "        vertical-align: middle;\n",
       "    }\n",
       "\n",
       "    .dataframe tbody tr th {\n",
       "        vertical-align: top;\n",
       "    }\n",
       "\n",
       "    .dataframe thead th {\n",
       "        text-align: right;\n",
       "    }\n",
       "</style>\n",
       "<table border=\"1\" class=\"dataframe\">\n",
       "  <thead>\n",
       "    <tr style=\"text-align: right;\">\n",
       "      <th></th>\n",
       "      <th>phrase</th>\n",
       "      <th>sujet</th>\n",
       "    </tr>\n",
       "  </thead>\n",
       "  <tbody>\n",
       "    <tr>\n",
       "      <th>0</th>\n",
       "      <td>Le sport est dépassement de soi. Le sport est ...</td>\n",
       "      <td>sports</td>\n",
       "    </tr>\n",
       "    <tr>\n",
       "      <th>1</th>\n",
       "      <td>Le football est le reflet de notre société. Re...</td>\n",
       "      <td>sports</td>\n",
       "    </tr>\n",
       "    <tr>\n",
       "      <th>2</th>\n",
       "      <td>Le sport est une évasion complète de la vie.</td>\n",
       "      <td>sports</td>\n",
       "    </tr>\n",
       "    <tr>\n",
       "      <th>3</th>\n",
       "      <td>Le karaté c'est comme la vie, un art des renco...</td>\n",
       "      <td>sports</td>\n",
       "    </tr>\n",
       "    <tr>\n",
       "      <th>4</th>\n",
       "      <td>Je voudrais évoquer quelques points spécifiques</td>\n",
       "      <td>sports</td>\n",
       "    </tr>\n",
       "    <tr>\n",
       "      <th>5</th>\n",
       "      <td>Le sport va chercher la peur pour la dominer, ...</td>\n",
       "      <td>sports</td>\n",
       "    </tr>\n",
       "    <tr>\n",
       "      <th>6</th>\n",
       "      <td>Le sport est dépassement de soi. Le sport est ...</td>\n",
       "      <td>sports</td>\n",
       "    </tr>\n",
       "    <tr>\n",
       "      <th>7</th>\n",
       "      <td>Pour important que soit le principe de concur...</td>\n",
       "      <td>sports</td>\n",
       "    </tr>\n",
       "    <tr>\n",
       "      <th>8</th>\n",
       "      <td>Pratiqué avec sérieux, le sport n'a rien à voi...</td>\n",
       "      <td>sports</td>\n",
       "    </tr>\n",
       "    <tr>\n",
       "      <th>9</th>\n",
       "      <td>Quelles garanties avons-nous qu  ils évoluero...</td>\n",
       "      <td>sports</td>\n",
       "    </tr>\n",
       "  </tbody>\n",
       "</table>\n",
       "</div>"
      ],
      "text/plain": [
       "                                              phrase   sujet\n",
       "0  Le sport est dépassement de soi. Le sport est ...  sports\n",
       "1  Le football est le reflet de notre société. Re...  sports\n",
       "2       Le sport est une évasion complète de la vie.  sports\n",
       "3  Le karaté c'est comme la vie, un art des renco...  sports\n",
       "4   Je voudrais évoquer quelques points spécifiques   sports\n",
       "5  Le sport va chercher la peur pour la dominer, ...  sports\n",
       "6  Le sport est dépassement de soi. Le sport est ...  sports\n",
       "7   Pour important que soit le principe de concur...  sports\n",
       "8  Pratiqué avec sérieux, le sport n'a rien à voi...  sports\n",
       "9   Quelles garanties avons-nous qu  ils évoluero...  sports"
      ]
     },
     "execution_count": 4,
     "metadata": {},
     "output_type": "execute_result"
    }
   ],
   "source": [
    "data.columns =['phrase','sujet']\n",
    "data.head(10)"
   ]
  },
  {
   "cell_type": "code",
   "execution_count": 5,
   "metadata": {},
   "outputs": [
    {
     "data": {
      "text/html": [
       "<div>\n",
       "<style scoped>\n",
       "    .dataframe tbody tr th:only-of-type {\n",
       "        vertical-align: middle;\n",
       "    }\n",
       "\n",
       "    .dataframe tbody tr th {\n",
       "        vertical-align: top;\n",
       "    }\n",
       "\n",
       "    .dataframe thead th {\n",
       "        text-align: right;\n",
       "    }\n",
       "</style>\n",
       "<table border=\"1\" class=\"dataframe\">\n",
       "  <thead>\n",
       "    <tr style=\"text-align: right;\">\n",
       "      <th></th>\n",
       "      <th>phrase</th>\n",
       "      <th>sujet</th>\n",
       "    </tr>\n",
       "  </thead>\n",
       "  <tbody>\n",
       "    <tr>\n",
       "      <th>790</th>\n",
       "      <td>Le fait qu il ne définissait pas une véritabl...</td>\n",
       "      <td>law, govt and politics</td>\n",
       "    </tr>\n",
       "    <tr>\n",
       "      <th>679</th>\n",
       "      <td>En insistant ainsi, en premier lieu sur la qu...</td>\n",
       "      <td>law, govt and politics</td>\n",
       "    </tr>\n",
       "    <tr>\n",
       "      <th>1456</th>\n",
       "      <td>On est si petit, le monde est si grand.\\nQue s...</td>\n",
       "      <td>life</td>\n",
       "    </tr>\n",
       "    <tr>\n",
       "      <th>4631</th>\n",
       "      <td>L'ignorance est la science des dieux qui tuent.</td>\n",
       "      <td>science</td>\n",
       "    </tr>\n",
       "    <tr>\n",
       "      <th>4626</th>\n",
       "      <td>La seule vraie science est la connaissance des...</td>\n",
       "      <td>science</td>\n",
       "    </tr>\n",
       "    <tr>\n",
       "      <th>163</th>\n",
       "      <td>\"Faites en sorte que les vaincus puissent se f...</td>\n",
       "      <td>sports</td>\n",
       "    </tr>\n",
       "    <tr>\n",
       "      <th>1129</th>\n",
       "      <td>Toutefois, la définition de la notion d inves...</td>\n",
       "      <td>finance</td>\n",
       "    </tr>\n",
       "    <tr>\n",
       "      <th>2915</th>\n",
       "      <td>J'ai écrit un roman qui tient en une seule phr...</td>\n",
       "      <td>religion</td>\n",
       "    </tr>\n",
       "    <tr>\n",
       "      <th>2584</th>\n",
       "      <td>Si les gens connaissaient la mythologie, ils r...</td>\n",
       "      <td>religion</td>\n",
       "    </tr>\n",
       "    <tr>\n",
       "      <th>3900</th>\n",
       "      <td>Alterner systématiquement boisson non-alcooli...</td>\n",
       "      <td>health and fitness</td>\n",
       "    </tr>\n",
       "    <tr>\n",
       "      <th>1923</th>\n",
       "      <td>Un des plus beaux cadeaux que nous ait fait la...</td>\n",
       "      <td>life</td>\n",
       "    </tr>\n",
       "    <tr>\n",
       "      <th>511</th>\n",
       "      <td>Oui, Monsieur Evans, je pense qu une initiati...</td>\n",
       "      <td>law, govt and politics</td>\n",
       "    </tr>\n",
       "    <tr>\n",
       "      <th>4848</th>\n",
       "      <td>L'astrologie est probablement celle qui réconc...</td>\n",
       "      <td>science</td>\n",
       "    </tr>\n",
       "    <tr>\n",
       "      <th>770</th>\n",
       "      <td>En deuxiéme lieu, je comprends les préoccupat...</td>\n",
       "      <td>law, govt and politics</td>\n",
       "    </tr>\n",
       "    <tr>\n",
       "      <th>4470</th>\n",
       "      <td>La science est devenue un moyen de la technique.</td>\n",
       "      <td>science</td>\n",
       "    </tr>\n",
       "    <tr>\n",
       "      <th>673</th>\n",
       "      <td>La concurrence devrait amener l équilibre ent...</td>\n",
       "      <td>law, govt and politics</td>\n",
       "    </tr>\n",
       "    <tr>\n",
       "      <th>3393</th>\n",
       "      <td>Cette possibilité que la maternité ne soit pas...</td>\n",
       "      <td>family and parenting</td>\n",
       "    </tr>\n",
       "    <tr>\n",
       "      <th>3584</th>\n",
       "      <td>La connerie n'est pas reconnue comme une malad...</td>\n",
       "      <td>health and fitness</td>\n",
       "    </tr>\n",
       "    <tr>\n",
       "      <th>1001</th>\n",
       "      <td>Le cot de ces travaux se monte   18 milliards...</td>\n",
       "      <td>finance</td>\n",
       "    </tr>\n",
       "    <tr>\n",
       "      <th>79</th>\n",
       "      <td>Fraude fiscale. sport national très prisé.</td>\n",
       "      <td>sports</td>\n",
       "    </tr>\n",
       "  </tbody>\n",
       "</table>\n",
       "</div>"
      ],
      "text/plain": [
       "                                                 phrase  \\\n",
       "790    Le fait qu il ne définissait pas une véritabl...   \n",
       "679    En insistant ainsi, en premier lieu sur la qu...   \n",
       "1456  On est si petit, le monde est si grand.\\nQue s...   \n",
       "4631    L'ignorance est la science des dieux qui tuent.   \n",
       "4626  La seule vraie science est la connaissance des...   \n",
       "163   \"Faites en sorte que les vaincus puissent se f...   \n",
       "1129   Toutefois, la définition de la notion d inves...   \n",
       "2915  J'ai écrit un roman qui tient en une seule phr...   \n",
       "2584  Si les gens connaissaient la mythologie, ils r...   \n",
       "3900   Alterner systématiquement boisson non-alcooli...   \n",
       "1923  Un des plus beaux cadeaux que nous ait fait la...   \n",
       "511    Oui, Monsieur Evans, je pense qu une initiati...   \n",
       "4848  L'astrologie est probablement celle qui réconc...   \n",
       "770    En deuxiéme lieu, je comprends les préoccupat...   \n",
       "4470   La science est devenue un moyen de la technique.   \n",
       "673    La concurrence devrait amener l équilibre ent...   \n",
       "3393  Cette possibilité que la maternité ne soit pas...   \n",
       "3584  La connerie n'est pas reconnue comme une malad...   \n",
       "1001   Le cot de ces travaux se monte   18 milliards...   \n",
       "79           Fraude fiscale. sport national très prisé.   \n",
       "\n",
       "                       sujet  \n",
       "790   law, govt and politics  \n",
       "679   law, govt and politics  \n",
       "1456                    life  \n",
       "4631                 science  \n",
       "4626                 science  \n",
       "163                   sports  \n",
       "1129                 finance  \n",
       "2915                religion  \n",
       "2584                religion  \n",
       "3900      health and fitness  \n",
       "1923                    life  \n",
       "511   law, govt and politics  \n",
       "4848                 science  \n",
       "770   law, govt and politics  \n",
       "4470                 science  \n",
       "673   law, govt and politics  \n",
       "3393    family and parenting  \n",
       "3584      health and fitness  \n",
       "1001                 finance  \n",
       "79                    sports  "
      ]
     },
     "execution_count": 5,
     "metadata": {},
     "output_type": "execute_result"
    }
   ],
   "source": [
    "shuffled = data.reindex(np.random.permutation(data.index))\n",
    "shuffled.head(10)"
   ]
  },
  {
   "cell_type": "markdown",
   "metadata": {},
   "source": [
    "- Class to number "
   ]
  },
  {
   "cell_type": "code",
   "execution_count": 7,
   "metadata": {},
   "outputs": [
    {
     "data": {
      "text/html": [
       "<div>\n",
       "<style scoped>\n",
       "    .dataframe tbody tr th:only-of-type {\n",
       "        vertical-align: middle;\n",
       "    }\n",
       "\n",
       "    .dataframe tbody tr th {\n",
       "        vertical-align: top;\n",
       "    }\n",
       "\n",
       "    .dataframe thead th {\n",
       "        text-align: right;\n",
       "    }\n",
       "</style>\n",
       "<table border=\"1\" class=\"dataframe\">\n",
       "  <thead>\n",
       "    <tr style=\"text-align: right;\">\n",
       "      <th></th>\n",
       "      <th>phrase</th>\n",
       "      <th>sujet</th>\n",
       "      <th>LABEL</th>\n",
       "    </tr>\n",
       "  </thead>\n",
       "  <tbody>\n",
       "    <tr>\n",
       "      <th>2542</th>\n",
       "      <td>Une société d'athées inventerait aussitôt une ...</td>\n",
       "      <td>religion</td>\n",
       "      <td>0</td>\n",
       "    </tr>\n",
       "    <tr>\n",
       "      <th>1784</th>\n",
       "      <td>Sur le Chemin, comme dans la vie, la sagesse n...</td>\n",
       "      <td>life</td>\n",
       "      <td>0</td>\n",
       "    </tr>\n",
       "    <tr>\n",
       "      <th>3202</th>\n",
       "      <td>Je m'appelle Richard. Qu'est ce que vous voule...</td>\n",
       "      <td>family and parenting</td>\n",
       "      <td>0</td>\n",
       "    </tr>\n",
       "    <tr>\n",
       "      <th>4472</th>\n",
       "      <td>La science présente beaucoup de danger, mais i...</td>\n",
       "      <td>science</td>\n",
       "      <td>0</td>\n",
       "    </tr>\n",
       "    <tr>\n",
       "      <th>3110</th>\n",
       "      <td>Quand est-ce que j'aurais droit a un Noël norm...</td>\n",
       "      <td>family and parenting</td>\n",
       "      <td>0</td>\n",
       "    </tr>\n",
       "    <tr>\n",
       "      <th>1945</th>\n",
       "      <td>L'art de la photographie est d'immortaliser de...</td>\n",
       "      <td>art and entertainment</td>\n",
       "      <td>0</td>\n",
       "    </tr>\n",
       "    <tr>\n",
       "      <th>1049</th>\n",
       "      <td>Ce systéme d équité, nous pouvons l envisager...</td>\n",
       "      <td>finance</td>\n",
       "      <td>0</td>\n",
       "    </tr>\n",
       "    <tr>\n",
       "      <th>3674</th>\n",
       "      <td>Au niveau santé, je n'ai toujours pas eu d'enn...</td>\n",
       "      <td>health and fitness</td>\n",
       "      <td>0</td>\n",
       "    </tr>\n",
       "    <tr>\n",
       "      <th>662</th>\n",
       "      <td>Nous débattons d un projet de modernisation t...</td>\n",
       "      <td>law, govt and politics</td>\n",
       "      <td>0</td>\n",
       "    </tr>\n",
       "    <tr>\n",
       "      <th>3702</th>\n",
       "      <td>Le respect avant tout et la santé pareille.</td>\n",
       "      <td>health and fitness</td>\n",
       "      <td>0</td>\n",
       "    </tr>\n",
       "  </tbody>\n",
       "</table>\n",
       "</div>"
      ],
      "text/plain": [
       "                                                 phrase  \\\n",
       "2542  Une société d'athées inventerait aussitôt une ...   \n",
       "1784  Sur le Chemin, comme dans la vie, la sagesse n...   \n",
       "3202  Je m'appelle Richard. Qu'est ce que vous voule...   \n",
       "4472  La science présente beaucoup de danger, mais i...   \n",
       "3110  Quand est-ce que j'aurais droit a un Noël norm...   \n",
       "1945  L'art de la photographie est d'immortaliser de...   \n",
       "1049   Ce systéme d équité, nous pouvons l envisager...   \n",
       "3674  Au niveau santé, je n'ai toujours pas eu d'enn...   \n",
       "662    Nous débattons d un projet de modernisation t...   \n",
       "3702        Le respect avant tout et la santé pareille.   \n",
       "\n",
       "                       sujet  LABEL  \n",
       "2542                religion      0  \n",
       "1784                    life      0  \n",
       "3202    family and parenting      0  \n",
       "4472                 science      0  \n",
       "3110    family and parenting      0  \n",
       "1945   art and entertainment      0  \n",
       "1049                 finance      0  \n",
       "3674      health and fitness      0  \n",
       "662   law, govt and politics      0  \n",
       "3702      health and fitness      0  "
      ]
     },
     "execution_count": 7,
     "metadata": {},
     "output_type": "execute_result"
    }
   ],
   "source": [
    "shuffled = shuffled.reindex(np.random.permutation(shuffled.index))\n",
    "shuffled['LABEL'] = 0\n",
    "shuffled.head(10)"
   ]
  },
  {
   "cell_type": "code",
   "execution_count": 8,
   "metadata": {},
   "outputs": [
    {
     "data": {
      "text/html": [
       "<div>\n",
       "<style scoped>\n",
       "    .dataframe tbody tr th:only-of-type {\n",
       "        vertical-align: middle;\n",
       "    }\n",
       "\n",
       "    .dataframe tbody tr th {\n",
       "        vertical-align: top;\n",
       "    }\n",
       "\n",
       "    .dataframe thead th {\n",
       "        text-align: right;\n",
       "    }\n",
       "</style>\n",
       "<table border=\"1\" class=\"dataframe\">\n",
       "  <thead>\n",
       "    <tr style=\"text-align: right;\">\n",
       "      <th></th>\n",
       "      <th>phrase</th>\n",
       "      <th>sujet</th>\n",
       "      <th>LABEL</th>\n",
       "    </tr>\n",
       "  </thead>\n",
       "  <tbody>\n",
       "    <tr>\n",
       "      <th>2542</th>\n",
       "      <td>Une société d'athées inventerait aussitôt une ...</td>\n",
       "      <td>religion</td>\n",
       "      <td>3</td>\n",
       "    </tr>\n",
       "    <tr>\n",
       "      <th>1784</th>\n",
       "      <td>Sur le Chemin, comme dans la vie, la sagesse n...</td>\n",
       "      <td>life</td>\n",
       "      <td>4</td>\n",
       "    </tr>\n",
       "    <tr>\n",
       "      <th>3202</th>\n",
       "      <td>Je m'appelle Richard. Qu'est ce que vous voule...</td>\n",
       "      <td>family and parenting</td>\n",
       "      <td>2</td>\n",
       "    </tr>\n",
       "    <tr>\n",
       "      <th>4472</th>\n",
       "      <td>La science présente beaucoup de danger, mais i...</td>\n",
       "      <td>science</td>\n",
       "      <td>5</td>\n",
       "    </tr>\n",
       "    <tr>\n",
       "      <th>3110</th>\n",
       "      <td>Quand est-ce que j'aurais droit a un Noël norm...</td>\n",
       "      <td>family and parenting</td>\n",
       "      <td>2</td>\n",
       "    </tr>\n",
       "    <tr>\n",
       "      <th>1945</th>\n",
       "      <td>L'art de la photographie est d'immortaliser de...</td>\n",
       "      <td>art and entertainment</td>\n",
       "      <td>9</td>\n",
       "    </tr>\n",
       "    <tr>\n",
       "      <th>1049</th>\n",
       "      <td>Ce systéme d équité, nous pouvons l envisager...</td>\n",
       "      <td>finance</td>\n",
       "      <td>6</td>\n",
       "    </tr>\n",
       "    <tr>\n",
       "      <th>3674</th>\n",
       "      <td>Au niveau santé, je n'ai toujours pas eu d'enn...</td>\n",
       "      <td>health and fitness</td>\n",
       "      <td>0</td>\n",
       "    </tr>\n",
       "    <tr>\n",
       "      <th>662</th>\n",
       "      <td>Nous débattons d un projet de modernisation t...</td>\n",
       "      <td>law, govt and politics</td>\n",
       "      <td>0</td>\n",
       "    </tr>\n",
       "    <tr>\n",
       "      <th>3702</th>\n",
       "      <td>Le respect avant tout et la santé pareille.</td>\n",
       "      <td>health and fitness</td>\n",
       "      <td>0</td>\n",
       "    </tr>\n",
       "  </tbody>\n",
       "</table>\n",
       "</div>"
      ],
      "text/plain": [
       "                                                 phrase  \\\n",
       "2542  Une société d'athées inventerait aussitôt une ...   \n",
       "1784  Sur le Chemin, comme dans la vie, la sagesse n...   \n",
       "3202  Je m'appelle Richard. Qu'est ce que vous voule...   \n",
       "4472  La science présente beaucoup de danger, mais i...   \n",
       "3110  Quand est-ce que j'aurais droit a un Noël norm...   \n",
       "1945  L'art de la photographie est d'immortaliser de...   \n",
       "1049   Ce systéme d équité, nous pouvons l envisager...   \n",
       "3674  Au niveau santé, je n'ai toujours pas eu d'enn...   \n",
       "662    Nous débattons d un projet de modernisation t...   \n",
       "3702        Le respect avant tout et la santé pareille.   \n",
       "\n",
       "                       sujet  LABEL  \n",
       "2542                religion      3  \n",
       "1784                    life      4  \n",
       "3202    family and parenting      2  \n",
       "4472                 science      5  \n",
       "3110    family and parenting      2  \n",
       "1945   art and entertainment      9  \n",
       "1049                 finance      6  \n",
       "3674      health and fitness      0  \n",
       "662   law, govt and politics      0  \n",
       "3702      health and fitness      0  "
      ]
     },
     "execution_count": 8,
     "metadata": {},
     "output_type": "execute_result"
    }
   ],
   "source": [
    "shuffled.loc[shuffled['sujet']== 'law, govt and politics', 'LABEL']=0\n",
    "shuffled.loc[shuffled['sujet'] == 'society', 'LABEL']=1\n",
    "shuffled.loc[shuffled['sujet'] == 'family and parenting','LABEL']=2\n",
    "shuffled.loc[shuffled['sujet'] == 'religion','LABEL']=3\n",
    "shuffled.loc[shuffled['sujet'] == 'life', 'LABEL']=4\n",
    "shuffled.loc[shuffled['sujet'] == 'science', 'LABEL']=5\n",
    "shuffled.loc[shuffled['sujet'] == 'finance', 'LABEL']=6\n",
    "shuffled.loc[shuffled['sujet'] == 'health and fitnesss', 'LABEL']=7\n",
    "shuffled.loc[shuffled['sujet']== 'sports', 'LABEL']=8\n",
    "shuffled.loc[shuffled['sujet']== 'art and entertainment', 'LABEL']=9\n",
    "shuffled.head(10)"
   ]
  },
  {
   "cell_type": "markdown",
   "metadata": {},
   "source": [
    "- lists of our label and text"
   ]
  },
  {
   "cell_type": "code",
   "execution_count": 9,
   "metadata": {},
   "outputs": [
    {
     "name": "stdout",
     "output_type": "stream",
     "text": [
      "[3, 4, 2, 5, 2, 9, 6, 0, 0, 0, 3, 6, 2, 1, 4, 3, 4, 1, 0, 3, 8, 3, 0, 1, 8, 6, 2, 5, 0, 0, 8, 1, 4, 3, 5, 8, 6, 1, 2, 9, 9, 3, 5, 3, 6, 0, 5, 3, 6, 2, 8, 6, 0, 5, 4, 6, 8, 0, 1, 9, 0, 9, 4, 3, 3, 9, 6, 2, 8, 8, 1, 6, 0, 3, 0, 0, 5, 0, 0, 6, 3, 6, 8, 2, 4, 9, 2, 1, 2, 9, 8, 3, 9, 2, 8, 0, 2, 0, 0, 0, 0, 9, 4, 4, 6, 6, 2, 1, 0, 4, 4, 5, 0, 5, 0, 1, 4, 0, 5, 9, 4, 0, 8, 2, 4, 1, 2, 3, 1, 0, 6, 0, 3, 1, 3, 4, 8, 5, 9, 4, 2, 8, 8, 0, 8, 0, 6, 5, 9, 2, 4, 8, 8, 2, 2, 8, 1, 8, 5, 9, 6, 5, 3, 0, 5, 0, 0, 3, 0, 2, 0, 0, 4, 0, 4, 2, 9, 9, 9, 1, 8, 8, 2, 0, 1, 5, 4, 2, 5, 3, 3, 6, 1, 8, 2, 9, 2, 9, 0, 3, 9, 1, 5, 3, 9, 6, 3, 6, 3, 0, 0, 2, 5, 1, 1, 3, 4, 2, 5, 9, 9, 5, 2, 3, 0, 2, 1, 2, 5, 2, 9, 4, 1, 5, 6, 0, 5, 2, 1, 9, 1, 8, 1, 3, 6, 5, 0, 6, 1, 0, 9, 3, 0, 6, 0, 6, 2, 0, 0, 6, 5, 0, 9, 1, 6, 2, 0, 9, 2, 3, 3, 1, 8, 0, 6, 0, 4, 3, 3, 8, 3, 0, 9, 4, 0, 1, 1, 2, 3, 3, 2, 4, 0, 1, 4, 4, 2, 1, 8, 3, 5, 0, 5, 5, 1, 6, 5, 8, 8, 6, 4, 1, 2, 0, 3, 3, 6, 5, 9, 8, 5, 1, 6, 4, 3, 1, 5, 0, 0, 4, 0, 4, 0, 9, 0, 6, 9, 6, 1, 4, 4, 0, 4, 1, 0, 2, 4, 8, 2, 8, 3, 2, 0, 9, 8, 5, 0, 0, 4, 6, 0, 5, 6, 2, 5, 1, 5, 0, 8, 6, 6, 4, 1, 6, 6, 9, 8, 5, 4, 8, 8, 1, 9, 1, 0, 9, 3, 1, 3, 1, 6, 1, 8, 4, 0, 8, 6, 5, 3, 1, 5, 1, 8, 1, 0, 5, 6, 6, 3, 5, 8, 4, 1, 2, 1, 4, 6, 0, 2, 4, 6, 4, 3, 1, 4, 4, 4, 2, 9, 3, 8, 0, 5, 4, 6, 8, 3, 6, 0, 1, 2, 0, 1, 1, 1, 2, 4, 3, 9, 2, 9, 2, 0, 1, 0, 8, 0, 3, 9, 9, 6, 2, 6, 1, 6, 2, 0, 0, 8, 8, 8, 9, 3, 8, 3, 0, 1, 0, 6, 4, 6, 6, 5, 1, 0, 0, 1, 0, 5, 1, 1, 8, 0, 3, 1, 0, 1, 8, 0, 0, 8, 2, 8, 6, 1, 1, 9, 2, 9, 0, 2, 1, 0, 2, 4, 9, 1, 0, 9, 0, 0, 3, 8, 9, 0, 5, 5, 0, 1, 6, 3, 8, 4, 1, 9, 0, 0, 0, 9, 4, 5, 1, 0, 0, 3, 4, 0, 6, 5, 4, 0, 0, 3, 0, 6, 1, 9, 9, 9, 3, 0, 8, 3, 4, 0, 0, 5, 8, 6, 1, 4, 0, 1, 8, 5, 8, 6, 0, 1, 3, 1, 2, 6, 8, 4, 9, 4, 8, 9, 9, 5, 8, 4, 0, 3, 2, 3, 9, 0, 9, 4, 6, 3, 1, 9, 0, 3, 3, 8, 2, 8, 3, 3, 5, 6, 6, 0, 0, 4, 5, 6, 0, 5, 6, 5, 5, 8, 5, 4, 8, 0, 9, 5, 0, 6, 0, 1, 5, 9, 0, 6, 3, 6, 6, 4, 9, 3, 0, 3, 3, 3, 8, 6, 5, 0, 2, 3, 8, 8, 0, 8, 9, 5, 4, 2, 6, 3, 1, 5, 5, 3, 0, 9, 2, 0, 3, 9, 9, 4, 2, 9, 8, 8, 4, 9, 6, 9, 0, 1, 0, 4, 5, 0, 4, 3, 8, 2, 0, 3, 5, 5, 0, 3, 0, 1, 0, 9, 3, 9, 9, 3, 5, 3, 6, 9, 5, 1, 5, 5, 8, 8, 0, 8, 3, 9, 8, 2, 0, 1, 5, 9, 3, 5, 6, 9, 3, 0, 9, 8, 0, 8, 3, 8, 1, 3, 0, 4, 1, 2, 2, 5, 5, 5, 0, 6, 4, 0, 4, 2, 6, 3, 4, 9, 9, 6, 9, 1, 3, 2, 2, 0, 0, 4, 8, 8, 9, 9, 5, 2, 0, 8, 6, 5, 9, 0, 6, 1, 4, 9, 6, 0, 4, 5, 2, 8, 8, 0, 4, 8, 2, 4, 4, 5, 3, 1, 9, 4, 0, 3, 3, 3, 8, 3, 8, 3, 0, 4, 8, 9, 1, 0, 4, 3, 0, 2, 4, 0, 3, 0, 0, 1, 3, 2, 0, 1, 4, 5, 3, 0, 9, 6, 5, 0, 0, 4, 6, 5, 5, 0, 9, 9, 5, 8, 8, 2, 6, 0, 8, 0, 8, 0, 0, 6, 0, 4, 5, 5, 4, 2, 3, 0, 3, 4, 5, 9, 1, 1, 5, 0, 0, 1, 6, 5, 2, 5, 6, 0, 0, 2, 1, 6, 8, 4, 3, 1, 6, 0, 9, 4, 8, 8, 3, 2, 4, 3, 0, 0, 0, 4, 0, 0, 8, 1, 1, 5, 2, 3, 2, 1, 3, 4, 6, 0, 6, 1, 9, 0, 2, 0, 4, 5, 1, 4, 6, 4, 5, 0, 6, 5, 1, 4, 0, 1, 0, 0, 1, 8, 1, 1, 1, 6, 1, 3, 9, 2, 0, 3, 5, 5, 0, 5, 8, 0, 0, 1, 2, 0, 0, 0, 3, 9, 0, 1, 0, 8, 0, 3, 5, 0, 5, 1, 8, 5, 2, 0, 8, 8, 1, 5, 5, 6, 2, 6, 0, 4, 9, 9, 9, 8, 5, 2, 9, 0, 8, 8, 3, 4, 8, 3, 0, 6, 1, 5, 9, 5, 9, 6, 0, 3, 0, 0, 4, 3, 8, 0, 4, 0, 0, 2, 4, 3, 3, 1, 5, 4, 5, 5, 4, 1, 2, 9, 0, 9, 0, 9, 5, 1, 0, 6, 8, 3, 0, 1, 5, 6, 3, 0, 6, 0, 9, 1, 1, 6, 8, 9, 5, 1, 0, 1, 1, 6, 0, 4, 9, 0, 1, 3, 4, 0, 8, 9, 4, 2, 5, 2, 6, 2, 1, 4, 4, 9, 0, 9, 3, 0, 0, 9, 3, 6, 6, 0, 5, 5, 5, 0, 0, 1, 4, 1, 2, 0, 1, 4, 5, 5, 5, 6, 2, 6, 9, 6, 2, 6, 8, 2, 3, 3, 5, 9, 5, 2, 8, 0, 8, 2, 4, 3, 0, 6, 2, 5, 9, 0, 0, 9, 2, 6, 1, 2, 6, 2, 2, 1, 0, 0, 6, 8, 9, 2, 0, 5, 4, 2, 2, 6, 6, 6, 3, 6, 3, 9, 8, 9, 0, 0, 0, 5, 0, 8, 5, 0, 1, 5, 5, 5, 8, 0, 5, 3, 3, 6, 0, 0, 8, 3, 1, 0, 5, 3, 9, 3, 9, 4, 3, 3, 0, 6, 3, 3, 0, 3, 9, 8, 4, 9, 9, 1, 9, 2, 4, 8, 0, 6, 0, 6, 8, 4, 6, 6, 9, 3, 3, 3, 6, 0, 4, 0, 5, 3, 8, 0, 0, 2, 5, 1, 0, 2, 0, 9, 0, 5, 2, 0, 1, 3, 4, 1, 2, 1, 1, 2, 0, 9, 0, 0, 0, 5, 1, 3, 1, 2, 6, 1, 8, 9, 3, 9, 0, 2, 5, 8, 0, 4, 4, 0, 4, 4, 0, 0, 3, 3, 0, 1, 5, 4, 4, 0, 5, 4, 8, 0, 1, 8, 1, 1, 0, 0, 2, 1, 2, 5, 2, 0, 2, 1, 4, 0, 4, 6, 9, 9, 1, 3, 5, 8, 1, 0, 4, 6, 9, 4, 1, 0, 9, 0, 1, 3, 4, 0, 3, 0, 8, 6, 4, 8, 0, 4, 6, 0, 1, 0, 6, 0, 1, 2, 1, 0, 2, 2, 2, 6, 3, 8, 6, 0, 9, 3, 1, 4, 1, 0, 0, 2, 3, 1, 4, 8, 3, 4, 8, 2, 3, 2, 2, 0, 0, 1, 6, 4, 0, 6, 4, 3, 0, 9, 0, 1, 4, 1, 0, 2, 0, 0, 0, 0, 8, 4, 8, 1, 5, 0, 6, 5, 0, 0, 1, 2, 9, 3, 0, 9, 0, 5, 3, 2, 1, 4, 9, 4, 4, 3, 6, 6, 6, 6, 0, 1, 6, 6, 2, 6, 9, 0, 4, 0, 6, 6, 2, 0, 4, 2, 1, 5, 1, 0, 6, 5, 4, 0, 1, 2, 0, 6, 0, 2, 0, 9, 1, 9, 3, 5, 1, 5, 4, 0, 6, 0, 9, 9, 9, 0, 6, 2, 4, 8, 6, 6, 2, 5, 5, 3, 2, 2, 4, 1, 2, 5, 8, 2, 3, 6, 1, 4, 5, 1, 3, 6, 9, 1, 4, 0, 0, 1, 2, 6, 3, 2, 0, 8, 1, 5, 2, 0, 2, 0, 0, 1, 2, 4, 3, 5, 0, 9, 5, 2, 6, 9, 0, 1, 5, 2, 0, 9, 5, 9, 9, 9, 0, 1, 9, 6, 2, 0, 4, 4, 1, 2, 0, 6, 9, 9, 5, 5, 3, 0, 8, 8, 8, 5, 2, 2, 2, 0, 0, 0, 1, 2, 0, 6, 2, 0, 8, 0, 4, 9, 1, 9, 6, 3, 4, 1, 0, 8, 3, 6, 0, 8, 8, 0, 4, 2, 8, 0, 0, 3, 2, 5, 3, 0, 5, 0, 5, 0, 9, 4, 5, 5, 6, 0, 0, 0, 5, 5, 0, 1, 6, 6, 1, 0, 0, 2, 1, 8, 4, 2, 0, 1, 5, 0, 5, 1, 4, 0, 2, 4, 9, 2, 9, 8, 0, 6, 4, 1, 6, 6, 1, 1, 3, 6, 6, 9, 6, 3, 0, 0, 4, 5, 2, 3, 4, 5, 9, 6, 6, 8, 3, 9, 1, 0, 2, 4, 4, 1, 8, 3, 3, 1, 9, 0, 5, 6, 4, 3, 9, 0, 2, 8, 2, 2, 5, 5, 0, 5, 4, 0, 9, 9, 0, 3, 5, 0, 0, 2, 9, 6, 5, 1, 0, 0, 9, 5, 3, 0, 4, 9, 3, 2, 2, 5, 3, 0, 6, 0, 9, 9, 8, 6, 9, 9, 2, 2, 0, 1, 8, 3, 9, 4, 6, 8, 5, 0, 0, 6, 1, 4, 1, 1, 6, 0, 1, 1, 5, 0, 8, 1, 9, 1, 6, 6, 5, 0, 4, 9, 9, 0, 0, 8, 9, 1, 9, 4, 5, 4, 6, 5, 4, 1, 3, 9, 8, 5, 0, 9, 4, 0, 5, 1, 0, 8, 9, 9, 4, 0, 9, 8, 0, 6, 0, 1, 0, 9, 5, 5, 0, 1, 1, 5, 6, 4, 8, 4, 8, 5, 1, 0, 2, 4, 5, 2, 6, 2, 5, 3, 8, 0, 6, 8, 6, 9, 0, 6, 1, 0, 2, 0, 0, 6, 8, 9, 3, 4, 4, 1, 5, 4, 2, 6, 4, 6, 5, 2, 4, 5, 2, 2, 1, 0, 1, 5, 6, 3, 8, 9, 8, 8, 2, 0, 5, 2, 0, 4, 3, 4, 6, 6, 2, 4, 0, 8, 5, 8, 4, 1, 0, 6, 0, 4, 1, 6, 3, 0, 9, 3, 2, 6, 6, 9, 2, 3, 0, 3, 0, 9, 6, 2, 1, 0, 9, 2, 1, 2, 3, 2, 5, 0, 6, 8, 4, 5, 6, 6, 0, 5, 6, 2, 3, 5, 3, 3, 8, 0, 2, 8, 5, 9, 1, 1, 5, 0, 9, 0, 5, 3, 4, 9, 8, 3, 2, 6, 2, 5, 5, 0, 1, 5, 5, 0, 5, 9, 3, 5, 3, 6, 9, 0, 0, 1, 2, 5, 2, 4, 0, 3, 1, 3, 2, 6, 0, 8, 4, 9, 5, 0, 8, 3, 3, 3, 6, 4, 5, 8, 2, 8, 2, 6, 5, 1, 6, 3, 9, 0, 0, 9, 2, 0, 3, 1, 3, 5, 2, 1, 9, 8, 3, 6, 4, 0, 5, 4, 8, 1, 6, 5, 2, 6, 3, 2, 0, 0, 0, 0, 3, 6, 2, 6, 4, 0, 0, 4, 4, 2, 3, 4, 6, 6, 8, 8, 9, 1, 1, 0, 1, 0, 5, 0, 6, 6, 8, 1, 1, 8, 2, 9, 9, 0, 9, 8, 0, 5, 0, 2, 0, 4, 5, 0, 9, 0, 0, 6, 8, 4, 5, 3, 5, 6, 1, 4, 0, 9, 9, 5, 6, 5, 5, 9, 2, 9, 0, 0, 1, 1, 2, 3, 0, 6, 3, 9, 6, 8, 3, 9, 0, 1, 5, 0, 0, 6, 2, 0, 9, 6, 9, 4, 1, 0, 5, 1, 2, 3, 2, 8, 0, 4, 0, 6, 3, 3, 0, 5, 0, 6, 3, 0, 0, 3, 4, 0, 6, 6, 5, 5, 2, 4, 9, 6, 2, 0, 6, 8, 6, 4, 3, 0, 0, 6, 9, 4, 6, 5, 8, 2, 6, 5, 0, 3, 6, 3, 6, 3, 6, 0, 5, 4, 0, 4, 9, 6, 5, 8, 0, 9, 0, 1, 3, 3, 8, 0, 5, 4, 2, 0, 3, 0, 0, 0, 8, 8, 4, 9, 2, 0, 6, 6, 0, 1, 3, 8, 8, 2, 2, 0, 3, 6, 1, 8, 0, 5, 0, 4, 0, 1, 4, 4, 3, 6, 8, 2, 6, 2, 5, 5, 9, 0, 2, 1, 4, 8, 0, 5, 1, 8, 2, 8, 0, 1, 4, 0, 6, 4, 8, 5, 8, 8, 2, 6, 8, 8, 9, 1, 0, 8, 8, 1, 4, 6, 8, 2, 5, 5, 9, 1, 5, 3, 3, 6, 6, 8, 8, 5, 3, 0, 5, 4, 5, 2, 5, 0, 0, 0, 6, 8, 0, 6, 5, 8, 0, 0, 3, 0, 1, 1, 3, 4, 9, 6, 5, 5, 8, 0, 1, 9, 3, 0, 4, 2, 9, 1, 0, 1, 3, 2, 0, 8, 9, 5, 9, 2, 2, 5, 5, 0, 0, 4, 0, 6, 1, 3, 0, 0, 4, 3, 0, 8, 0, 6, 5, 0, 0, 0, 8, 3, 6, 0, 4, 0, 2, 0, 8, 2, 0, 8, 4, 8, 6, 1, 2, 2, 4, 3, 3, 2, 5, 4, 1, 4, 8, 2, 2, 5, 5, 3, 0, 0, 5, 5, 2, 2, 6, 0, 4, 3, 5, 2, 9, 0, 3, 0, 0, 0, 5, 3, 8, 1, 2, 6, 1, 2, 3, 6, 3, 8, 9, 8, 5, 8, 1, 8, 6, 8, 5, 3, 1, 1, 0, 0, 9, 9, 5, 2, 8, 3, 8, 6, 2, 2, 1, 0, 4, 0, 0, 0, 0, 6, 3, 3, 5, 4, 4, 0, 1, 0, 5, 0, 2, 1, 8, 8, 2, 9, 8, 3, 4, 0, 4, 2, 0, 0, 9, 5, 0, 4, 3, 0, 0, 4, 4, 1, 0, 9, 9, 0, 4, 3, 4, 5, 6, 3, 3, 9, 1, 0, 9, 8, 1, 2, 3, 0, 2, 9, 3, 2, 2, 4, 5, 8, 8, 4, 6, 8, 1, 3, 4, 0, 2, 5, 9, 6, 9, 0, 0, 0, 9, 2, 8, 0, 0, 3, 0, 5, 0, 2, 5, 9, 3, 9, 4, 1, 6, 8, 2, 0, 9, 5, 0, 3, 2, 8, 2, 0, 6, 3, 6, 0, 5, 9, 2, 2, 6, 6, 0, 9, 8, 9, 1, 1, 2, 2, 6, 9, 0, 3, 1, 2, 9, 0, 5, 0, 0, 0, 8, 3, 9, 1, 9, 4, 1, 5, 6, 4, 2, 6, 9, 1, 2, 0, 0, 4, 0, 0, 0, 1, 5, 3, 5, 6, 8, 5, 0, 8, 4, 4, 2, 0, 4, 3, 1, 6, 0, 1, 6, 3, 2, 2, 3, 4, 8, 2, 9, 4, 1, 6, 6, 5, 5, 2, 3, 8, 9, 0, 9, 2, 6, 0, 2, 9, 3, 8, 0, 5, 0, 6, 2, 3, 8, 0, 3, 8, 6, 2, 1, 3, 6, 8, 9, 0, 8, 5, 0, 2, 9, 0, 0, 9, 8, 6, 1, 6, 0, 4, 0, 8, 1, 8, 3, 1, 0, 4, 2, 0, 4, 9, 9, 0, 2, 4, 2, 2, 0, 4, 6, 4, 4, 3, 6, 9, 9, 5, 9, 8, 2, 8, 0, 8, 5, 4, 0, 3, 1, 8, 6, 1, 3, 0, 2, 6, 4, 1, 0, 1, 5, 9, 0, 0, 5, 0, 0, 2, 8, 4, 1, 5, 5, 2, 8, 0, 0, 1, 6, 9, 8, 6, 6, 3, 8, 0, 6, 0, 3, 4, 2, 1, 1, 3, 4, 8, 3, 3, 4, 5, 4, 9, 0, 0, 3, 1, 4, 0, 5, 0, 5, 1, 4, 9, 6, 2, 5, 4, 3, 6, 8, 1, 1, 9, 4, 8, 3, 6, 5, 5, 2, 4, 8, 0, 9, 4, 0, 3, 9, 3, 4, 0, 0, 6, 9, 1, 4, 6, 0, 4, 6, 9, 0, 4, 8, 2, 6, 5, 1, 2, 0, 3, 1, 2, 0, 9, 5, 3, 4, 6, 3, 5, 6, 2, 9, 4, 8, 1, 4, 2, 0, 3, 0, 8, 4, 0, 0, 4, 2, 3, 8, 3, 8, 9, 6, 0, 1, 3, 9, 9, 0, 4, 0, 3, 1, 6, 8, 0, 8, 0, 2, 9, 4, 5, 9, 4, 2, 9, 2, 9, 1, 8, 6, 6, 8, 2, 6, 4, 0, 1, 5, 0, 6, 3, 5, 1, 4, 8, 8, 9, 9, 3, 5, 6, 0, 2, 0, 0, 1, 2, 0, 3, 3, 3, 0, 8, 0, 9, 0, 3, 5, 4, 5, 0, 2, 6, 6, 6, 5, 9, 1, 6, 5, 3, 3, 5, 1, 2, 3, 3, 5, 2, 3, 9, 2, 3, 5, 1, 1, 1, 3, 4, 0, 9, 8, 4, 0, 2, 1, 0, 4, 9, 0, 6, 4, 0, 6, 5, 0, 1, 0, 0, 5, 1, 6, 4, 4, 0, 8, 9, 1, 8, 0, 0, 9, 6, 5, 9, 4, 9, 0, 0, 5, 9, 5, 8, 5, 4, 0, 3, 2, 4, 9, 0, 8, 9, 3, 9, 5, 6, 0, 8, 5, 0, 4, 8, 9, 9, 4, 6, 6, 2, 1, 0, 5, 0, 1, 4, 0, 6, 9, 5, 0, 1, 8, 1, 9, 0, 4, 0, 3, 0, 3, 4, 0, 2, 1, 3, 2, 6, 8, 0, 1, 5, 3, 4, 4, 6, 5, 5, 9, 2, 5, 1, 5, 9, 2, 5, 5, 3, 1, 0, 5, 3, 9, 0, 0, 9, 9, 4, 0, 8, 1, 4, 5, 8, 0, 8, 3, 1, 9, 4, 0, 2, 0, 1, 3, 9, 0, 1, 2, 1, 9, 0, 6, 4, 1, 0, 2, 2, 5, 8, 0, 0, 6, 1, 3, 9, 8, 0, 1, 3, 4, 1, 3, 0, 6, 2, 6, 9, 1, 0, 0, 0, 4, 1, 6, 0, 2, 6, 0, 1, 3, 0, 2, 4, 2, 0, 4, 4, 9, 0, 9, 0, 6, 6, 8, 4, 4, 2, 5, 0, 3, 0, 1, 9, 0, 8, 8, 9, 2, 4, 0, 9, 9, 9, 0, 2, 9, 2, 3, 0, 8, 6, 5, 1, 3, 1, 2, 0, 5, 3, 8, 4, 0, 9, 8, 9, 1, 6, 4, 5, 0, 8, 9, 0, 5, 4, 0, 5, 5, 9, 4, 2, 9, 3, 9, 6, 3, 0, 2, 4, 0, 0, 3, 0, 0, 1, 0, 8, 2, 0, 0, 1, 6, 9, 0, 0, 3, 0, 9, 4, 1, 4, 5, 3, 5, 5, 2, 2, 5, 9, 2, 9, 0, 1, 3, 0, 0, 9, 0, 0, 1, 5, 0, 2, 2, 9, 5, 4, 1, 4, 6, 2, 3, 9, 4, 9, 0, 0, 1, 9, 0, 9, 0, 0, 0, 0, 1, 3, 6, 6, 1, 0, 0, 0, 8, 1, 4, 9, 9, 0, 8, 2, 9, 5, 1, 0, 9, 9, 3, 8, 9, 1, 9, 9, 8, 3, 1, 4, 2, 0, 4, 0, 0, 5, 2, 0, 3, 6, 0, 1, 4, 8, 9, 1, 3, 5, 3, 8, 0, 4, 3, 4, 9, 5, 0, 9, 0, 3, 6, 8, 9, 9, 4, 9, 1, 5, 6, 9, 0, 0, 3, 0, 9, 0, 2, 5, 9, 4, 0, 0, 6, 3, 3, 0, 0, 4, 6, 4, 2, 0, 0, 9, 1, 8, 1, 0, 1, 4, 8, 5, 0, 9, 9, 6, 8, 2, 5, 8, 2, 8, 0, 2, 9, 3, 1, 6, 8, 1, 8, 0, 4, 5, 4, 4, 9, 2, 0, 4, 9, 6, 9, 2, 2, 4, 5, 1, 9, 8, 0, 8, 4, 9, 0, 0, 5, 8, 9, 8, 2, 0, 0, 8, 0, 5, 3, 2, 3, 1, 3, 4, 4, 3, 5, 9, 5, 2, 4, 1, 6, 6, 0, 0, 6, 8, 0, 4, 2, 8, 8, 9, 3, 9, 5, 5, 4, 3, 0, 9, 0, 2, 4, 6, 5, 8, 0, 4, 6, 2, 4, 3, 0, 5, 3, 5, 6, 3, 9, 6, 3, 3, 2, 2, 1, 8, 4, 4, 3, 2, 3, 6, 5, 2, 6, 9, 6, 8, 5, 6, 0, 6, 4, 0, 8, 8, 6, 3, 6, 1, 9, 5, 6, 3, 4, 2, 0, 4, 5, 3, 0, 0, 2, 0, 4, 3, 5, 4, 1, 3, 9, 5, 2, 6, 9, 5, 1, 6, 6, 6, 0, 1, 3, 3, 0, 6, 4, 5, 6, 5, 6, 0, 1, 0, 6, 6, 9, 9, 2, 9, 2, 2, 6, 8, 0, 0, 2, 9, 5, 0, 3, 9, 9, 9, 0, 1, 2, 2, 8, 6, 1, 3, 3, 1, 0, 5, 6, 0, 5, 1, 5, 2, 8, 1, 5, 0, 3, 6, 0, 2, 2, 3, 2, 9, 5, 8, 0, 9, 6, 5, 6, 9, 8, 6, 6, 6, 2, 3, 0, 0, 0, 8, 2, 0, 2, 8, 8, 6, 3, 5, 0, 5, 4, 1, 1, 9, 0, 1, 8, 0, 8, 6, 0, 1, 0, 0, 3, 5, 0, 4, 3, 6, 2, 5, 1, 4, 5, 5, 0, 6, 2, 3, 0, 5, 4, 0, 5, 0, 0, 2, 1, 6, 2, 9, 6, 4, 0, 4, 6, 0, 8, 4, 3, 6, 5, 0, 3, 3, 9, 2, 2, 2, 1, 1, 6, 6, 0, 0, 8, 9, 3, 0, 0, 3, 0, 9, 2, 5, 5, 1, 1, 9, 4, 9, 3, 0, 1, 0, 9, 0, 4, 9, 2, 0, 5, 0, 0, 3, 0, 2, 9, 0, 0, 9, 2, 3, 1, 6, 5, 0, 3, 5, 9, 5, 3, 0, 4, 1, 0, 2, 0, 3, 6, 0, 2, 2, 4, 5, 3, 6, 5, 2, 3, 6, 0, 9, 3, 1, 9, 1, 9, 1, 5, 6, 2, 1, 8, 0, 6, 3, 2, 4, 1, 5, 1, 0, 6, 0, 2, 6, 0, 5, 0, 8, 6, 0, 9, 1, 4, 6, 0, 0, 6, 5, 4, 3, 1, 0, 2, 2, 9, 0, 4, 9, 9, 9, 3, 5, 0, 0, 3, 2, 2, 3, 0, 9, 8, 2, 0, 1, 4, 8, 8, 0, 3, 1, 6, 3, 6, 6, 8, 1, 6, 0, 8, 0, 4, 9, 2, 6, 0, 8, 6, 3, 0, 0, 2, 0, 2, 5, 9, 0, 8, 0, 6, 4, 6, 0, 0, 5, 5, 3, 0, 4, 3, 4, 3, 0, 1, 1, 4, 9, 0, 0, 2, 1, 9, 4, 3, 4, 4, 8, 5, 3, 1, 0, 5, 2, 1, 4, 2, 5, 9, 1, 0, 1, 0, 8, 9, 9, 8, 2, 6, 8, 1, 3, 6, 9, 9, 6, 5, 6, 0, 2, 3, 6, 0, 6, 6, 5, 2, 2, 3, 2, 2, 8, 0, 8, 9, 2, 0, 2, 3, 0, 0, 3, 9, 0, 9, 5, 8, 6, 1, 6, 2, 4, 0, 4, 1, 0, 6, 8, 0, 2, 4, 1, 4, 8, 6, 6, 1, 9, 3, 1, 6, 9, 9, 3, 0, 4, 5, 8, 0, 5, 5, 5, 5, 9, 2, 6, 0, 8, 4, 3, 3, 1, 5, 4, 1, 3, 6, 2, 0, 0, 3, 1, 5, 6, 5, 4, 1, 0, 3, 0, 5, 5, 5, 4, 2, 2, 4, 5, 3, 1, 6, 4, 0, 3, 9, 4, 3, 9, 3, 4, 1, 2, 9, 8, 5, 0, 2, 8, 1, 8, 3, 8, 9, 9, 3, 4, 8, 2, 3, 4, 1, 9, 2, 2, 9, 0, 0, 0, 4, 1, 0, 4, 1, 6, 2, 8, 6, 8, 0, 2, 2, 5, 8, 9, 1, 0, 0, 0, 6, 4, 8, 5, 3, 8, 2, 6, 4, 4, 0, 9, 4, 0, 8, 0, 6, 3, 2, 0, 8, 3, 6, 4, 1, 3, 1, 0, 9, 6, 0, 4, 2, 8, 2, 2, 4, 6, 0, 3, 5, 3, 5, 2, 3, 8, 6, 3, 2, 8, 8, 6, 6, 8, 1, 0, 6, 1, 0, 8, 9, 0, 1, 4, 6, 8, 0, 0, 9, 2, 1, 8, 2, 3, 8, 3, 0, 3, 2, 1, 0, 2, 5, 6, 6, 6, 6, 1, 6, 2, 9, 1, 0, 0, 0, 9, 9, 4, 4, 3, 0, 5, 9, 4, 2, 6, 8, 2, 5, 9, 3, 2, 9, 8, 6, 6, 4, 6, 5, 5, 0, 4, 8, 1, 4, 2, 9, 0, 0, 0, 5, 0, 0, 0, 6, 1, 1, 1, 1, 0, 6, 0, 1, 9, 5, 3, 6, 1, 2, 6, 1, 0, 4, 1, 0, 9, 5, 3, 1, 5, 9, 6, 0, 2, 1, 8, 0, 0, 2, 2, 8, 4, 2, 0, 9, 6, 5, 1, 9, 0, 4, 5, 2, 8, 1, 0, 8, 3, 4, 0, 0, 6, 9, 4, 8, 4, 9, 4, 0, 3, 2, 0, 9, 6, 0, 6, 1, 5, 8, 1, 8, 2, 6, 9, 2, 8, 0, 4, 5, 6, 3, 9, 0, 0, 2, 4, 4, 9, 2, 5, 5, 3, 0, 9, 1, 5, 3, 3, 0, 5, 4, 1, 0, 8, 5, 8, 0, 4, 0, 0, 4, 2, 0, 0, 0, 5, 8, 4, 4, 5, 0, 0, 4, 0, 0, 0, 4, 5, 0, 8, 8, 4, 0, 2, 3, 1, 3, 5, 8, 5, 3, 0, 5, 9, 8, 2, 9, 1, 3, 1, 3, 3, 6, 9, 8, 5, 4, 9, 0, 5, 5, 2, 6, 0, 8, 6, 3, 0, 0, 4, 3, 8, 4, 2, 0, 2, 3, 4, 0, 5, 5, 2, 0, 9, 4, 0, 0, 4, 3, 5, 2, 9, 2, 4, 6, 1, 4, 4, 4, 6, 4, 0, 9, 5, 4, 0, 2, 3, 9, 0, 4, 2, 1, 0, 0, 4, 3, 9, 1, 5, 3, 8, 8, 0, 0, 1, 8, 0, 4, 0, 3, 2, 3, 0, 2, 4, 4, 5, 8, 8, 1, 0, 0, 4, 4, 6, 0, 2, 3, 5, 0, 6, 9, 9, 5, 9, 5, 0, 9, 4, 0, 3, 4, 1, 0, 2, 0, 5, 3, 2, 6, 0, 0, 1, 3, 1, 8, 5, 5, 6, 3, 0, 0, 2, 5, 3, 5, 9, 0, 1, 3, 3, 0, 0, 3, 4, 4, 3, 9, 2, 9, 4, 1, 3, 9, 9, 0, 4, 5, 1, 1, 5, 0, 4, 2, 1, 9, 5, 6, 4, 5, 8, 2, 5, 9, 4, 2, 4, 8, 8, 0, 3, 9, 8, 5, 2, 2, 6, 3, 3, 8, 0, 0, 0, 6, 1, 0, 1, 4, 0, 3, 5, 9, 0, 2, 6, 5, 8, 6, 0, 9, 9, 5, 9, 4, 9, 1, 8, 3, 6, 0, 9, 9, 6, 5, 0, 4, 8, 0, 5, 3, 9, 8, 6, 3, 0, 6, 4, 5, 1, 6, 5, 9, 5, 3, 0, 5, 9, 6, 0, 4, 0, 4, 4, 1, 0, 6, 9, 1, 2, 6, 0, 4, 0, 3, 2, 0, 4, 1, 2, 8, 2, 2, 2, 8, 4, 3, 5, 2, 2, 3, 5, 2, 5, 6, 1, 2, 8, 4, 3, 3, 6, 1, 8, 0, 8, 2, 9, 4, 4, 8, 0, 6, 0, 8, 6, 2, 3, 3, 6, 8, 0, 4, 5, 3, 9, 3, 0, 6, 2, 2, 8, 4, 8, 1, 9, 5, 3, 1, 1, 0, 8, 4, 2, 4, 6, 3, 8, 4, 5, 8, 0, 2, 8, 3, 0, 0, 1, 9, 0, 5, 8, 4, 3, 5, 6, 2, 2, 0, 1, 6, 3, 4, 0, 5, 3, 5, 2, 0, 5, 8, 0, 1, 8, 8, 5, 1, 2, 1, 2, 1, 8, 4, 8, 5, 9, 4, 6, 6, 6, 1, 8, 6, 6, 2, 9, 0, 3, 2, 9, 1, 1, 9, 6, 1, 6, 6, 4, 0, 1, 9, 3, 2, 5, 0, 5, 4, 2, 1, 1, 0, 1, 5, 8, 8, 2, 9, 6, 8, 1, 4, 3, 5, 8, 1, 0, 4, 0, 1, 9, 4, 8, 2, 0, 1, 5, 0, 3, 4, 9, 0, 0, 9, 1, 4, 0, 0, 2, 5, 1, 1, 1, 9, 6, 2, 2, 6, 0, 6, 9, 3, 4, 6, 3, 0, 5, 0, 9, 9, 4, 9, 5, 3, 6, 3, 8, 1, 1, 0, 3, 2, 4, 8, 9, 8, 0, 8, 9, 4, 8, 1, 6, 1, 4, 9, 4, 4, 5, 0, 8, 1, 2, 4, 4, 8, 8, 5]\n"
     ]
    }
   ],
   "source": [
    "subset_text = list(shuffled['phrase'].values)\n",
    "subset_label = list(shuffled['LABEL'].values)\n",
    "num_label = len(set(subset_label))"
   ]
  },
  {
   "cell_type": "code",
   "execution_count": 11,
   "metadata": {},
   "outputs": [
    {
     "name": "stdout",
     "output_type": "stream",
     "text": [
      "min_seq_len: 3\n",
      "max_seq_len: 785\n",
      "unique label: 9\n"
     ]
    }
   ],
   "source": [
    "print('min_seq_len: %d' % min(len(v.split()) for v in subset_text))\n",
    "print('max_seq_len: %d' % max(len(v.split()) for v in subset_text))\n",
    "print('unique label: %d' % num_label)"
   ]
  },
  {
   "cell_type": "markdown",
   "metadata": {},
   "source": [
    "# Using bert server"
   ]
  },
  {
   "cell_type": "markdown",
   "metadata": {},
   "source": [
    "- We should lunch the server first using the folowing command :\n",
    "         > bert_serving_start -pooling_layer -10 -model_dir=\"path\""
   ]
  },
  {
   "cell_type": "code",
   "execution_count": 12,
   "metadata": {},
   "outputs": [],
   "source": [
    "# array to save our data \n",
    "B=[]"
   ]
  },
  {
   "cell_type": "code",
   "execution_count": 13,
   "metadata": {},
   "outputs": [],
   "source": [
    "from bert_serving.client import BertClient\n",
    "bc = BertClient(check_length=False)\n",
    "B=bc.encode(subset_text)"
   ]
  },
  {
   "cell_type": "code",
   "execution_count": 17,
   "metadata": {},
   "outputs": [
    {
     "data": {
      "text/plain": [
       "array([[-0.4784688 ,  0.59450924, -0.30014026, ..., -0.46640718,\n",
       "         0.12308042,  0.64219666],\n",
       "       [-0.7514608 ,  0.62921876,  0.15271863, ..., -0.8905141 ,\n",
       "         0.10648459,  0.43560937],\n",
       "       [-0.713017  ,  0.6686921 ,  0.26946196, ..., -0.5205836 ,\n",
       "         0.01374757,  0.2903203 ],\n",
       "       ...,\n",
       "       [-0.92430806,  0.536207  ,  0.17437717, ..., -0.42711276,\n",
       "         0.06707807,  0.32152948],\n",
       "       [-0.65371495,  0.68190503,  0.15354809, ..., -0.43683535,\n",
       "         0.00304869,  0.10963322],\n",
       "       [-0.3907939 ,  0.23548323, -0.24272089, ..., -0.5956548 ,\n",
       "         0.15462498,  0.3665693 ]], dtype=float32)"
      ]
     },
     "execution_count": 17,
     "metadata": {},
     "output_type": "execute_result"
    }
   ],
   "source": [
    "B"
   ]
  },
  {
   "cell_type": "markdown",
   "metadata": {},
   "source": [
    "# Saving results"
   ]
  },
  {
   "cell_type": "markdown",
   "metadata": {},
   "source": [
    "Save post (text) results in a csv file"
   ]
  },
  {
   "cell_type": "code",
   "execution_count": 1,
   "metadata": {},
   "outputs": [],
   "source": [
    "import csv \n",
    "import codecs\n",
    "\n",
    "def writterCsv(B,pathoutput):\n",
    "    with codecs.open(str(pathoutput),\"w+\", encoding=\"utf8\") as f:\n",
    "         for liste in B:\n",
    "            for i in liste:\n",
    "                f.write('{0};'.format(i))\n",
    "            f.write('\\n')"
   ]
  },
  {
   "cell_type": "code",
   "execution_count": 19,
   "metadata": {},
   "outputs": [],
   "source": [
    "path=\"C:/User/Desktop/bert-master/bert/output_bert_layer10.csv\"\n",
    "writterCsv(B,path)"
   ]
  },
  {
   "cell_type": "markdown",
   "metadata": {},
   "source": [
    "Save label in a csv file"
   ]
  },
  {
   "cell_type": "code",
   "execution_count": 20,
   "metadata": {},
   "outputs": [],
   "source": [
    "import csv \n",
    "import codecs\n",
    "\n",
    "def writterCsv(B,pathoutput):\n",
    "    with codecs.open(str(pathoutput),\"w+\", encoding=\"utf8\") as f:\n",
    "        for liste in B:\n",
    "            f.write('{0};'.format(liste))\n",
    "            f.write('\\n')\n",
    "path=\"C:/Users/Desktop/bert-master/bert/layer10.csv\"\n",
    "writterCsv(subset_label,path)"
   ]
  },
  {
   "cell_type": "markdown",
   "metadata": {},
   "source": [
    "Note : We should link manually between our posts and our labels in order to avoid any problem\n",
    "    - We just need to copy our labels (with the same order) and past them in the 769 column of post's file \n",
    "    - Then we replace the fiste line (in post's file ) by p1 to p768 and for 789 column we put it by LABEL "
   ]
  }
 ],
 "metadata": {
  "kernelspec": {
   "display_name": "Python 3",
   "language": "python",
   "name": "python3"
  },
  "language_info": {
   "codemirror_mode": {
    "name": "ipython",
    "version": 3
   },
   "file_extension": ".py",
   "mimetype": "text/x-python",
   "name": "python",
   "nbconvert_exporter": "python",
   "pygments_lexer": "ipython3",
   "version": "3.6.8"
  }
 },
 "nbformat": 4,
 "nbformat_minor": 2
}
