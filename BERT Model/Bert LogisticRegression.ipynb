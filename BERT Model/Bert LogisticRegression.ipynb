{
 "cells": [
  {
   "cell_type": "markdown",
   "metadata": {},
   "source": [
    "# Training the model"
   ]
  },
  {
   "cell_type": "code",
   "execution_count": 14,
   "metadata": {},
   "outputs": [
    {
     "name": "stderr",
     "output_type": "stream",
     "text": [
      "C:\\Users\\Dell 7470\\Anaconda1\\lib\\site-packages\\sklearn\\linear_model\\logistic.py:433: FutureWarning: Default solver will be changed to 'lbfgs' in 0.22. Specify a solver to silence this warning.\n",
      "  FutureWarning)\n",
      "C:\\Users\\Dell 7470\\Anaconda1\\lib\\site-packages\\sklearn\\utils\\validation.py:761: DataConversionWarning: A column-vector y was passed when a 1d array was expected. Please change the shape of y to (n_samples, ), for example using ravel().\n",
      "  y = column_or_1d(y, warn=True)\n",
      "C:\\Users\\Dell 7470\\Anaconda1\\lib\\site-packages\\sklearn\\linear_model\\logistic.py:460: FutureWarning: Default multi_class will be changed to 'auto' in 0.22. Specify the multi_class option to silence this warning.\n",
      "  \"this warning.\", FutureWarning)\n"
     ]
    },
    {
     "name": "stdout",
     "output_type": "stream",
     "text": [
      "[[ 73   1   3   1   5   0  41   2   5   0]\n",
      " [  1  75   0   4   6   1   1   4   5   1]\n",
      " [  4   7  90   4  10   1   4   2   5   3]\n",
      " [  3   7   2  87   9   3   2   8   4   3]\n",
      " [  1   7   5   2 101   4   4   4   3   7]\n",
      " [  1   1   0   6   2  97   1   2   5   2]\n",
      " [ 33   1   1   0   1   1  83   2   3   3]\n",
      " [  6   1   2   0  10   4  11  86  18   1]\n",
      " [  4   3   2   1   6   1  10   5  73   2]\n",
      " [  2   4   4   2  10   2   1   4   3  91]]\n",
      "accuracy_test 0.6908797417271993\n",
      "accuracy_train 0.8009147161689535\n"
     ]
    }
   ],
   "source": [
    "# importation \n",
    "\n",
    "import pandas as pd\n",
    "import numpy as np\n",
    "from sklearn.preprocessing import StandardScaler\n",
    "from sklearn.model_selection import train_test_split\n",
    "from sklearn.metrics import confusion_matrix \n",
    "from sklearn.svm import SVC \n",
    "from sklearn.model_selection import cross_val_score\n",
    "from sklearn.linear_model import LogisticRegression\n",
    "from sklearn import metrics\n",
    "\n",
    "##############################################################################################\n",
    "\n",
    "path=\"output_bert10.csv\"   \n",
    "\n",
    "# read the model \n",
    "\n",
    "dff=pd.read_csv(path,sep=';')\n",
    "\n",
    "# give to each line an index\n",
    "\n",
    "finalDf = dff.reindex(np.random.permutation(dff.index))\n",
    "\n",
    "# liste of colums \n",
    "\n",
    "features=['p1', 'p2', 'p3', 'p4', 'p5', 'p6', 'p7', 'p8', 'p9', 'p10', 'p11', 'p12', 'p13', 'p14', 'p15', 'p16', 'p17', 'p18', 'p19', 'p20', 'p21', 'p22', 'p23', 'p24', 'p25', 'p26', 'p27', 'p28', 'p29', 'p30', 'p31', 'p32', 'p33', 'p34', 'p35', 'p36', 'p37', 'p38', 'p39', 'p40', 'p41', 'p42', 'p43', 'p44', 'p45', 'p46', 'p47', 'p48', 'p49', 'p50', 'p51', 'p52', 'p53', 'p54', 'p55', 'p56', 'p57', 'p58', 'p59', 'p60', 'p61', 'p62', 'p63', 'p64', 'p65', 'p66', 'p67', 'p68', 'p69', 'p70', 'p71', 'p72', 'p73', 'p74', 'p75', 'p76', 'p77', 'p78', 'p79', 'p80', 'p81', 'p82', 'p83', 'p84', 'p85', 'p86', 'p87', 'p88', 'p89', 'p90', 'p91', 'p92', 'p93', 'p94', 'p95', 'p96', 'p97', 'p98', 'p99', 'p100', 'p101', 'p102', 'p103', 'p104', 'p105', 'p106', 'p107', 'p108', 'p109', 'p110', 'p111', 'p112', 'p113', 'p114', 'p115', 'p116', 'p117', 'p118', 'p119', 'p120', 'p121', 'p122', 'p123', 'p124', 'p125', 'p126', 'p127', 'p128', 'p129', 'p130', 'p131', 'p132', 'p133', 'p134', 'p135', 'p136', 'p137', 'p138', 'p139', 'p140', 'p141', 'p142', 'p143', 'p144', 'p145', 'p146', 'p147', 'p148', 'p149', 'p150', 'p151', 'p152', 'p153', 'p154', 'p155', 'p156', 'p157', 'p158', 'p159', 'p160', 'p161', 'p162', 'p163', 'p164', 'p165', 'p166', 'p167', 'p168', 'p169', 'p170', 'p171', 'p172', 'p173', 'p174', 'p175', 'p176', 'p177', 'p178', 'p179', 'p180', 'p181', 'p182', 'p183', 'p184', 'p185', 'p186', 'p187', 'p188', 'p189', 'p190', 'p191', 'p192', 'p193', 'p194', 'p195', 'p196', 'p197', 'p198', 'p199', 'p200', 'p201', 'p202', 'p203', 'p204', 'p205', 'p206', 'p207', 'p208', 'p209', 'p210', 'p211', 'p212', 'p213', 'p214', 'p215', 'p216', 'p217', 'p218', 'p219', 'p220', 'p221', 'p222', 'p223', 'p224', 'p225', 'p226', 'p227', 'p228', 'p229', 'p230', 'p231', 'p232', 'p233', 'p234', 'p235', 'p236', 'p237', 'p238', 'p239', 'p240', 'p241', 'p242', 'p243', 'p244', 'p245', 'p246', 'p247', 'p248', 'p249', 'p250', 'p251', 'p252', 'p253', 'p254', 'p255', 'p256', 'p257', 'p258', 'p259', 'p260', 'p261', 'p262', 'p263', 'p264', 'p265', 'p266', 'p267', 'p268', 'p269', 'p270', 'p271', 'p272', 'p273', 'p274', 'p275', 'p276', 'p277', 'p278', 'p279', 'p280', 'p281', 'p282', 'p283', 'p284', 'p285', 'p286', 'p287', 'p288', 'p289', 'p290', 'p291', 'p292', 'p293', 'p294', 'p295', 'p296', 'p297', 'p298', 'p299', 'p300', 'p301', 'p302', 'p303', 'p304', 'p305', 'p306', 'p307', 'p308', 'p309', 'p310', 'p311', 'p312', 'p313', 'p314', 'p315', 'p316', 'p317', 'p318', 'p319', 'p320', 'p321', 'p322', 'p323', 'p324', 'p325', 'p326', 'p327', 'p328', 'p329', 'p330', 'p331', 'p332', 'p333', 'p334', 'p335', 'p336', 'p337', 'p338', 'p339', 'p340', 'p341', 'p342', 'p343', 'p344', 'p345', 'p346', 'p347', 'p348', 'p349', 'p350', 'p351', 'p352', 'p353', 'p354', 'p355', 'p356', 'p357', 'p358', 'p359', 'p360', 'p361', 'p362', 'p363', 'p364', 'p365', 'p366', 'p367', 'p368', 'p369', 'p370', 'p371', 'p372', 'p373', 'p374', 'p375', 'p376', 'p377', 'p378', 'p379', 'p380', 'p381', 'p382', 'p383', 'p384', 'p385', 'p386', 'p387', 'p388', 'p389', 'p390', 'p391', 'p392', 'p393', 'p394', 'p395', 'p396', 'p397', 'p398', 'p399', 'p400', 'p401', 'p402', 'p403', 'p404', 'p405', 'p406', 'p407', 'p408', 'p409', 'p410', 'p411', 'p412', 'p413', 'p414', 'p415', 'p416', 'p417', 'p418', 'p419', 'p420', 'p421', 'p422', 'p423', 'p424', 'p425', 'p426', 'p427', 'p428', 'p429', 'p430', 'p431', 'p432', 'p433', 'p434', 'p435', 'p436', 'p437', 'p438', 'p439', 'p440', 'p441', 'p442', 'p443', 'p444', 'p445', 'p446', 'p447', 'p448', 'p449', 'p450', 'p451', 'p452', 'p453', 'p454', 'p455', 'p456', 'p457', 'p458', 'p459', 'p460', 'p461', 'p462', 'p463', 'p464', 'p465', 'p466', 'p467', 'p468', 'p469', 'p470', 'p471', 'p472', 'p473', 'p474', 'p475', 'p476', 'p477', 'p478', 'p479', 'p480', 'p481', 'p482', 'p483', 'p484', 'p485', 'p486', 'p487', 'p488', 'p489', 'p490', 'p491', 'p492', 'p493', 'p494', 'p495', 'p496', 'p497', 'p498', 'p499', 'p500', 'p501', 'p502', 'p503', 'p504', 'p505', 'p506', 'p507', 'p508', 'p509', 'p510', 'p511', 'p512', 'p513', 'p514', 'p515', 'p516', 'p517', 'p518', 'p519', 'p520', 'p521', 'p522', 'p523', 'p524', 'p525', 'p526', 'p527', 'p528', 'p529', 'p530', 'p531', 'p532', 'p533', 'p534', 'p535', 'p536', 'p537', 'p538', 'p539', 'p540', 'p541', 'p542', 'p543', 'p544', 'p545', 'p546', 'p547', 'p548', 'p549', 'p550', 'p551', 'p552', 'p553', 'p554', 'p555', 'p556', 'p557', 'p558', 'p559', 'p560', 'p561', 'p562', 'p563', 'p564', 'p565', 'p566', 'p567', 'p568', 'p569', 'p570', 'p571', 'p572', 'p573', 'p574', 'p575', 'p576', 'p577', 'p578', 'p579', 'p580', 'p581', 'p582', 'p583', 'p584', 'p585', 'p586', 'p587', 'p588', 'p589', 'p590', 'p591', 'p592', 'p593', 'p594', 'p595', 'p596', 'p597', 'p598', 'p599', 'p600', 'p601', 'p602', 'p603', 'p604', 'p605', 'p606', 'p607', 'p608', 'p609', 'p610', 'p611', 'p612', 'p613', 'p614', 'p615', 'p616', 'p617', 'p618', 'p619', 'p620', 'p621', 'p622', 'p623', 'p624', 'p625', 'p626', 'p627', 'p628', 'p629', 'p630', 'p631', 'p632', 'p633', 'p634', 'p635', 'p636', 'p637', 'p638', 'p639', 'p640', 'p641', 'p642', 'p643', 'p644', 'p645', 'p646', 'p647', 'p648', 'p649', 'p650', 'p651', 'p652', 'p653', 'p654', 'p655', 'p656', 'p657', 'p658', 'p659', 'p660', 'p661', 'p662', 'p663', 'p664', 'p665', 'p666', 'p667', 'p668', 'p669', 'p670', 'p671', 'p672', 'p673', 'p674', 'p675', 'p676', 'p677', 'p678', 'p679', 'p680', 'p681', 'p682', 'p683', 'p684', 'p685', 'p686', 'p687', 'p688', 'p689', 'p690', 'p691', 'p692', 'p693', 'p694', 'p695', 'p696', 'p697', 'p698', 'p699', 'p700', 'p701', 'p702', 'p703', 'p704', 'p705', 'p706', 'p707', 'p708', 'p709', 'p710', 'p711', 'p712', 'p713', 'p714', 'p715', 'p716', 'p717', 'p718', 'p719', 'p720', 'p721', 'p722', 'p723', 'p724', 'p725', 'p726', 'p727', 'p728', 'p729', 'p730', 'p731', 'p732', 'p733', 'p734', 'p735', 'p736', 'p737', 'p738', 'p739', 'p740', 'p741', 'p742', 'p743', 'p744', 'p745', 'p746', 'p747', 'p748', 'p749', 'p750', 'p751', 'p752', 'p753', 'p754', 'p755', 'p756', 'p757', 'p758', 'p759', 'p760', 'p761', 'p762', 'p763', 'p764', 'p765', 'p766', 'p767', 'p768']\n",
    "\n",
    "# list of features\n",
    "\n",
    "X = finalDf.loc[:, features].values\n",
    "\n",
    "# liste of target\n",
    "\n",
    "y = finalDf.loc[:,['LABEL']].values\n",
    "\n",
    "#data splitting : train and test\n",
    "\n",
    "X_train, X_test, y_train, y_test = train_test_split(X, y, random_state=42,shuffle=True)\n",
    "\n",
    "# construction d'un objet de Régression logistique\n",
    "\n",
    "model = LogisticRegression(C=0.08)\n",
    "\n",
    "# Entrainement du modèle\n",
    "\n",
    "svm_model_linear=model.fit(X_train, y_train)\n",
    "\n",
    "#model accuracy for X_train   \n",
    "\n",
    "accuracy_train = svm_model_linear.score(X_train, y_train)\n",
    "\n",
    "#model accuracy for X_test   \n",
    "\n",
    "accuracy = svm_model_linear.score(X_test, y_test)\n",
    "\n",
    "# Evaluation \n",
    "\n",
    "predictions = svm_model_linear.predict(X_test)\n",
    "cm = metrics.confusion_matrix(y_test, predictions)\n",
    "\n",
    "#print\n",
    "\n",
    "print(cm)\n",
    "print(\"accuracy_test\",accuracy)\n",
    "print(\"accuracy_train\",accuracy_train)"
   ]
  },
  {
   "cell_type": "markdown",
   "metadata": {},
   "source": [
    "\n",
    "# Save the model "
   ]
  },
  {
   "cell_type": "code",
   "execution_count": 15,
   "metadata": {},
   "outputs": [],
   "source": [
    "import pickle\n",
    "import os\n",
    "\n",
    "pickle.dump(model, open(os.path.join(\"C:/Users/Dell 7470/Desktop/projet/pickl_model\", 'LogisticRegression.pickle'), 'wb'), protocol=4)"
   ]
  }
 ],
 "metadata": {
  "kernelspec": {
   "display_name": "Python 3",
   "language": "python",
   "name": "python3"
  },
  "language_info": {
   "codemirror_mode": {
    "name": "ipython",
    "version": 3
   },
   "file_extension": ".py",
   "mimetype": "text/x-python",
   "name": "python",
   "nbconvert_exporter": "python",
   "pygments_lexer": "ipython3",
   "version": "3.6.8"
  }
 },
 "nbformat": 4,
 "nbformat_minor": 2
}
